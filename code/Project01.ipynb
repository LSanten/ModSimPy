{
 "cells": [
  {
   "cell_type": "code",
   "execution_count": 148,
   "metadata": {
    "collapsed": true
   },
   "outputs": [],
   "source": [
    "%matplotlib inline\n",
    "\n",
    "from modsim import *\n",
    "\n",
    "from pandas import read_csv\n",
    "\n",
    "filename = 'india.csv'\n",
    "table = read_csv(filename, header=0, index_col=0, decimal='M')\n",
    "\n"
   ]
  },
  {
   "cell_type": "code",
   "execution_count": null,
   "metadata": {
    "collapsed": true
   },
   "outputs": [],
   "source": []
  },
  {
   "cell_type": "code",
   "execution_count": 149,
   "metadata": {
    "collapsed": true
   },
   "outputs": [],
   "source": [
    "table.columns = ['avg_pop', 'births', 'deaths', 'natural_change', \n",
    "                  'crude_birth_rate', 'crude_death_rate', 'natural_change_k', 'fertility']"
   ]
  },
  {
   "cell_type": "code",
   "execution_count": 262,
   "metadata": {
    "collapsed": true
   },
   "outputs": [],
   "source": [
    "def plotting(x_1, x_2):\n",
    "    newfig()\n",
    "    \n",
    "    plot(x_1, ':', color='darkblue', label='Simulation')\n",
    "    plot(x_2, ':', color='red', label='Data')\n",
    "    decorate(xlabel='Year',\n",
    "    ylabel='World Population')"
   ]
  },
  {
   "cell_type": "code",
   "execution_count": 263,
   "metadata": {
    "collapsed": true
   },
   "outputs": [],
   "source": [
    "last_year = table.avg_pop.index[0]\n",
    "first_year = table.avg_pop.index[-1]\n",
    "\n",
    "avg_pop = table.avg_pop\n"
   ]
  },
  {
   "cell_type": "code",
   "execution_count": null,
   "metadata": {
    "collapsed": true
   },
   "outputs": [],
   "source": []
  },
  {
   "cell_type": "code",
   "execution_count": null,
   "metadata": {
    "collapsed": true
   },
   "outputs": [],
   "source": []
  },
  {
   "cell_type": "code",
   "execution_count": 264,
   "metadata": {
    "collapsed": true
   },
   "outputs": [],
   "source": [
    "\n",
    "def slope(recent_year = 2015, past_year = 2007):\n",
    "    \n",
    "    \n",
    "    pop_difference = avg_pop[recent_year] - avg_pop[past_year]\n",
    "    elapsed_time = recent_year - past_year\n",
    "    annual_growth = pop_difference / elapsed_time\n",
    "    \n",
    "    return annual_growth\n",
    "    print('Annual Growth:', annual_growth)\n",
    "    \n",
    "    \n",
    "annual_growth = slope()"
   ]
  },
  {
   "cell_type": "code",
   "execution_count": 265,
   "metadata": {
    "collapsed": true
   },
   "outputs": [],
   "source": [
    "def simulating_pop(starting_year = 1981, ending_year = 2050):\n",
    "    \n",
    "    results = TimeSeries()\n",
    "    results[first_year] = avg_pop[first_year]\n",
    "    \n",
    "    for t in linrange(starting_year, ending_year):\n",
    "        results[t + 1] = results[t] + annual_growth\n",
    "        \n",
    "    \n",
    "    return results\n",
    "    \n",
    "    "
   ]
  },
  {
   "cell_type": "code",
   "execution_count": 266,
   "metadata": {
    "collapsed": true
   },
   "outputs": [],
   "source": [
    "calculated_pop = simulating_pop()"
   ]
  },
  {
   "cell_type": "code",
   "execution_count": 267,
   "metadata": {},
   "outputs": [
    {
     "name": "stdout",
     "output_type": "stream",
     "text": [
      "Saving figure to file Population_Estimate_1.pdf\n"
     ]
    },
    {
     "data": {
      "image/png": "[encoded data removed]",
      "text/plain": [
       "<matplotlib.figure.Figure at 0x13c3e446978>"
      ]
     },
     "metadata": {},
     "output_type": "display_data"
    }
   ],
   "source": [
    "plotting(calculated_pop, avg_pop)\n",
    "decorate(title='Population in India Over Time')\n",
    "savefig('Population_Estimate_1.pdf')"
   ]
  },
  {
   "cell_type": "code",
   "execution_count": null,
   "metadata": {
    "collapsed": true
   },
   "outputs": [],
   "source": [
    "def simulate_until_pop(pop_limit = 1500000):\n",
    "    \n",
    "    results = TimeSeries()\n",
    "    results[first_year] = avg_pop[first_year]\n",
    "    \n",
    "    \n"
   ]
  },
  {
   "cell_type": "code",
   "execution_count": null,
   "metadata": {
    "collapsed": true
   },
   "outputs": [],
   "source": []
  },
  {
   "cell_type": "code",
   "execution_count": null,
   "metadata": {
    "collapsed": true
   },
   "outputs": [],
   "source": []
  },
  {
   "cell_type": "code",
   "execution_count": null,
   "metadata": {
    "collapsed": true
   },
   "outputs": [],
   "source": []
  },
  {
   "cell_type": "code",
   "execution_count": null,
   "metadata": {
    "collapsed": true
   },
   "outputs": [],
   "source": []
  },
  {
   "cell_type": "code",
   "execution_count": null,
   "metadata": {
    "collapsed": true
   },
   "outputs": [],
   "source": []
  },
  {
   "cell_type": "code",
   "execution_count": null,
   "metadata": {
    "collapsed": true
   },
   "outputs": [],
   "source": []
  }
 ],
 "metadata": {
  "kernelspec": {
   "display_name": "Python 3",
   "language": "python",
   "name": "python3"
  },
  "language_info": {
   "codemirror_mode": {
    "name": "ipython",
    "version": 3
   },
   "file_extension": ".py",
   "mimetype": "text/x-python",
   "name": "python",
   "nbconvert_exporter": "python",
   "pygments_lexer": "ipython3",
   "version": "3.6.1"
  }
 },
 "nbformat": 4,
 "nbformat_minor": 2
}

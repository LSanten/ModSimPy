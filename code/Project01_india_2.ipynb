{
 "cells": [
  {
   "cell_type": "code",
   "execution_count": 1,
   "metadata": {
    "collapsed": true
   },
   "outputs": [],
   "source": [
    "%matplotlib inline\n",
    "\n",
    "from modsim import *\n",
    "\n",
    "from pandas import read_csv\n",
    "\n",
    "filename = 'india_2.csv'\n",
    "table = read_csv(filename, header=0, index_col=0, decimal='M')\n",
    "\n"
   ]
  },
  {
   "cell_type": "code",
   "execution_count": 2,
   "metadata": {
    "collapsed": true
   },
   "outputs": [],
   "source": [
    "system = System(alpha = 0.025, beta = -0.00185, plus = 449480608)"
   ]
  },
  {
   "cell_type": "code",
   "execution_count": 3,
   "metadata": {
    "collapsed": true
   },
   "outputs": [],
   "source": [
    "table.columns = ['avg_pop']"
   ]
  },
  {
   "cell_type": "code",
   "execution_count": 4,
   "metadata": {
    "collapsed": true
   },
   "outputs": [],
   "source": [
    "def plotting(x_1, x_2):\n",
    "    newfig()\n",
    "    \n",
    "    plot(x_1, ':', color='darkblue', label='Simulation')\n",
    "    plot(x_2, ':', color='red', label='Data')\n",
    "    decorate(xlabel='Year',\n",
    "    ylabel='World Population')"
   ]
  },
  {
   "cell_type": "code",
   "execution_count": 5,
   "metadata": {},
   "outputs": [
    {
     "data": {
      "text/plain": [
       "1960"
      ]
     },
     "execution_count": 5,
     "metadata": {},
     "output_type": "execute_result"
    }
   ],
   "source": [
    "first_year = table.avg_pop.index[0]\n",
    "last_year = table.avg_pop.index[-1]\n",
    "\n",
    "avg_pop = table.avg_pop\n",
    "\n",
    "first_year"
   ]
  },
  {
   "cell_type": "code",
   "execution_count": 6,
   "metadata": {},
   "outputs": [
    {
     "data": {
      "text/plain": [
       "449480608"
      ]
     },
     "execution_count": 6,
     "metadata": {},
     "output_type": "execute_result"
    }
   ],
   "source": [
    "avg_pop[1960]"
   ]
  },
  {
   "cell_type": "code",
   "execution_count": null,
   "metadata": {
    "collapsed": true
   },
   "outputs": [],
   "source": []
  },
  {
   "cell_type": "code",
   "execution_count": 7,
   "metadata": {},
   "outputs": [
    {
     "data": {
      "text/plain": [
       "15619477.607142856"
      ]
     },
     "execution_count": 7,
     "metadata": {},
     "output_type": "execute_result"
    }
   ],
   "source": [
    "\n",
    "def slope(recent_year = 2016, past_year = 1960):\n",
    "    \n",
    "    \n",
    "    pop_difference = avg_pop[recent_year] - avg_pop[past_year]\n",
    "    elapsed_time = recent_year - past_year\n",
    "    annual_growth = pop_difference / elapsed_time\n",
    "    \n",
    "    return annual_growth\n",
    "    print('Annual Growth:', annual_growth)\n",
    "    \n",
    "    \n",
    "annual_growth = slope()\n",
    "annual_growth"
   ]
  },
  {
   "cell_type": "code",
   "execution_count": 8,
   "metadata": {
    "collapsed": true
   },
   "outputs": [],
   "source": [
    "def simulating_pop_linear(starting_year = 1960, ending_year = 2016):\n",
    "    \n",
    "    results = TimeSeries()\n",
    "    results[starting_year] = avg_pop[starting_year]\n",
    "    \n",
    "    for t in linrange(starting_year, ending_year):\n",
    "        results[t + 1] = results[t] + annual_growth\n",
    "        \n",
    "    \n",
    "    return results\n",
    "\n",
    "    \n",
    "calculated_pop_linear = simulating_pop_linear()"
   ]
  },
  {
   "cell_type": "code",
   "execution_count": 9,
   "metadata": {},
   "outputs": [
    {
     "name": "stdout",
     "output_type": "stream",
     "text": [
      "460717623.2\n",
      "472235563.78\n",
      "484041452.874\n",
      "496142489.196\n",
      "508546051.426\n",
      "521259702.712\n",
      "534291195.28\n",
      "547648475.162\n",
      "561339687.041\n",
      "575373179.217\n",
      "589757508.697\n",
      "604501446.415\n",
      "619613982.575\n",
      "635104332.139\n",
      "650981940.443\n",
      "667256488.954\n",
      "683937901.178\n",
      "701036348.707\n",
      "718562257.425\n",
      "736526313.861\n",
      "754939471.707\n",
      "773812958.5\n",
      "793158282.462\n",
      "812987239.524\n",
      "833311920.512\n",
      "854144718.525\n",
      "875498336.488\n",
      "897385794.9\n",
      "919820439.772\n",
      "942815950.767\n",
      "966386349.536\n",
      "990546008.274\n",
      "1015309658.48\n",
      "1040692399.94\n",
      "1066709709.94\n",
      "1093377452.69\n",
      "1120711889.01\n",
      "1148729686.23\n",
      "1177447928.39\n",
      "1206884126.6\n",
      "1237056229.76\n",
      "1267982635.51\n",
      "1299682201.4\n",
      "1332174256.43\n",
      "1365478612.84\n",
      "1399615578.16\n",
      "1434605967.62\n",
      "1470471116.81\n",
      "1507232894.73\n",
      "1544913717.09\n",
      "1583536560.02\n",
      "1623124974.02\n",
      "1663703098.37\n",
      "1705295675.83\n",
      "1747928067.73\n",
      "1791626269.42\n",
      "1836416926.16\n"
     ]
    }
   ],
   "source": [
    "system = System(alpha = 0.025, beta = -0.00185, plus = 449480608)\n",
    "\n",
    "def simulating_pop_quadratic(starting_year = 1960, ending_year = 2016):\n",
    "    \n",
    "    results = TimeSeries()\n",
    "    results[starting_year] = avg_pop[starting_year]\n",
    "    \n",
    "    for t in linrange(starting_year, ending_year):\n",
    "        results[t + 1] = results[t] + system.alpha * results[t]\n",
    "        print(results[t+1])\n",
    "        \n",
    "    \n",
    "    return results\n",
    "    \n",
    "    \n",
    "\n",
    "calculated_pop_quadratic = simulating_pop_quadratic()"
   ]
  },
  {
   "cell_type": "code",
   "execution_count": 10,
   "metadata": {},
   "outputs": [
    {
     "name": "stdout",
     "output_type": "stream",
     "text": [
      "Saving figure to file Population_Estimate_1_linear.pdf\n"
     ]
    },
    {
     "data": {
      "image/png": "[encoded data removed]",
      "text/plain": [
       "<matplotlib.figure.Figure at 0x2229c3c9e10>"
      ]
     },
     "metadata": {},
     "output_type": "display_data"
    }
   ],
   "source": [
    "#QUADRATIC PLOTTING\n",
    "plotting(calculated_pop_quadratic, avg_pop)\n",
    "decorate(title='Population in India Over Time')\n",
    "savefig('Population_Estimate_1_linear.pdf')"
   ]
  },
  {
   "cell_type": "code",
   "execution_count": 11,
   "metadata": {},
   "outputs": [
    {
     "name": "stdout",
     "output_type": "stream",
     "text": [
      "Saving figure to file Population_Estimate_1_linear.pdf\n"
     ]
    },
    {
     "data": {
      "image/png": "[encoded data removed]",
      "text/plain": [
       "<matplotlib.figure.Figure at 0x222a1e03da0>"
      ]
     },
     "metadata": {},
     "output_type": "display_data"
    }
   ],
   "source": [
    "#LINEAR PLOTTING\n",
    "plotting(calculated_pop_linear, avg_pop)\n",
    "decorate(title='Population in India Over Time')\n",
    "savefig('Population_Estimate_1_linear.pdf')"
   ]
  },
  {
   "cell_type": "code",
   "execution_count": 12,
   "metadata": {
    "collapsed": true
   },
   "outputs": [],
   "source": [
    "def simulate_until_pop(pop_limit = 1500000):\n",
    "    \n",
    "    results = TimeSeries()\n",
    "    results[first_year] = avg_pop[first_year]\n",
    "    \n",
    "    \n"
   ]
  },
  {
   "cell_type": "code",
   "execution_count": null,
   "metadata": {
    "collapsed": true
   },
   "outputs": [],
   "source": []
  },
  {
   "cell_type": "code",
   "execution_count": null,
   "metadata": {
    "collapsed": true
   },
   "outputs": [],
   "source": []
  },
  {
   "cell_type": "code",
   "execution_count": null,
   "metadata": {
    "collapsed": true
   },
   "outputs": [],
   "source": []
  },
  {
   "cell_type": "code",
   "execution_count": null,
   "metadata": {
    "collapsed": true
   },
   "outputs": [],
   "source": []
  },
  {
   "cell_type": "code",
   "execution_count": null,
   "metadata": {
    "collapsed": true
   },
   "outputs": [],
   "source": []
  },
  {
   "cell_type": "code",
   "execution_count": null,
   "metadata": {
    "collapsed": true
   },
   "outputs": [],
   "source": []
  },
  {
   "cell_type": "code",
   "execution_count": null,
   "metadata": {
    "collapsed": true
   },
   "outputs": [],
   "source": []
  },
  {
   "cell_type": "code",
   "execution_count": null,
   "metadata": {
    "collapsed": true
   },
   "outputs": [],
   "source": []
  },
  {
   "cell_type": "code",
   "execution_count": null,
   "metadata": {
    "collapsed": true
   },
   "outputs": [],
   "source": []
  }
 ],
 "metadata": {
  "kernelspec": {
   "display_name": "Python 3",
   "language": "python",
   "name": "python3"
  },
  "language_info": {
   "codemirror_mode": {
    "name": "ipython",
    "version": 3
   },
   "file_extension": ".py",
   "mimetype": "text/x-python",
   "name": "python",
   "nbconvert_exporter": "python",
   "pygments_lexer": "ipython3",
   "version": "3.6.1"
  }
 },
 "nbformat": 4,
 "nbformat_minor": 2
}

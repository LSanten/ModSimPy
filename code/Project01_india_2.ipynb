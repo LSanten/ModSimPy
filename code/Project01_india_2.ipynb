{
 "cells": [
  {
   "cell_type": "code",
   "execution_count": 3,
   "metadata": {
    "collapsed": true
   },
   "outputs": [],
   "source": [
    "%matplotlib inline\n",
    "\n",
    "from modsim import *\n",
    "\n",
    "from pandas import read_csv\n",
    "\n",
    "filename = 'india_2.csv'\n",
    "table = read_csv(filename, header=0, index_col=0, decimal='M')\n",
    "\n"
   ]
  },
  {
   "cell_type": "code",
   "execution_count": 4,
   "metadata": {
    "collapsed": true
   },
   "outputs": [],
   "source": [
    "system = System(alpha = 0.025, beta = -0.00185, plus = 449480608, delta = 0)"
   ]
  },
  {
   "cell_type": "code",
   "execution_count": 5,
   "metadata": {
    "collapsed": true
   },
   "outputs": [],
   "source": [
    "table.columns = ['avg_pop']"
   ]
  },
  {
   "cell_type": "code",
   "execution_count": 58,
   "metadata": {
    "collapsed": true
   },
   "outputs": [],
   "source": [
    "def plotting(x_1, x_2):\n",
    "    newfig()\n",
    "    \n",
    "    plot(x_1, ':', color='darkblue', label='Simulation')\n",
    "    plot(x_2, '-', color='red', label='Data')\n",
    "    decorate(xlabel='Year',\n",
    "    ylabel='World Population (Billions)')"
   ]
  },
  {
   "cell_type": "code",
   "execution_count": 59,
   "metadata": {},
   "outputs": [
    {
     "data": {
      "text/plain": [
       "1960"
      ]
     },
     "execution_count": 59,
     "metadata": {},
     "output_type": "execute_result"
    }
   ],
   "source": [
    "first_year = table.avg_pop.index[0]\n",
    "last_year = table.avg_pop.index[-1]\n",
    "\n",
    "avg_pop = table.avg_pop / 1e9 # in Billion\n",
    "\n",
    "first_year"
   ]
  },
  {
   "cell_type": "code",
   "execution_count": 60,
   "metadata": {},
   "outputs": [
    {
     "data": {
      "text/plain": [
       "0.449480608"
      ]
     },
     "execution_count": 60,
     "metadata": {},
     "output_type": "execute_result"
    }
   ],
   "source": [
    "avg_pop[1960]"
   ]
  },
  {
   "cell_type": "code",
   "execution_count": null,
   "metadata": {
    "collapsed": true
   },
   "outputs": [],
   "source": []
  },
  {
   "cell_type": "code",
   "execution_count": 61,
   "metadata": {},
   "outputs": [
    {
     "data": {
      "text/plain": [
       "0.015619477607142856"
      ]
     },
     "execution_count": 61,
     "metadata": {},
     "output_type": "execute_result"
    }
   ],
   "source": [
    "\n",
    "def slope(recent_year = 2016, past_year = 1960):\n",
    "    \n",
    "    \n",
    "    pop_difference = avg_pop[recent_year] - avg_pop[past_year]\n",
    "    elapsed_time = recent_year - past_year\n",
    "    annual_growth = pop_difference / elapsed_time\n",
    "    \n",
    "    return annual_growth\n",
    "    print('Annual Growth:', annual_growth)\n",
    "    \n",
    "    \n",
    "annual_growth = slope()\n",
    "annual_growth"
   ]
  },
  {
   "cell_type": "code",
   "execution_count": 69,
   "metadata": {},
   "outputs": [
    {
     "name": "stdout",
     "output_type": "stream",
     "text": [
      "1960    0.449481\n",
      "1961    0.465100\n",
      "1962    0.480720\n",
      "1963    0.496339\n",
      "1964    0.511959\n",
      "1965    0.527578\n",
      "1966    0.543197\n",
      "1967    0.558817\n",
      "1968    0.574436\n",
      "1969    0.590056\n",
      "1970    0.605675\n",
      "1971    0.621295\n",
      "1972    0.636914\n",
      "1973    0.652534\n",
      "1974    0.668153\n",
      "1975    0.683773\n",
      "1976    0.699392\n",
      "1977    0.715012\n",
      "1978    0.730631\n",
      "1979    0.746251\n",
      "1980    0.761870\n",
      "1981    0.777490\n",
      "1982    0.793109\n",
      "1983    0.808729\n",
      "1984    0.824348\n",
      "1985    0.839968\n",
      "1986    0.855587\n",
      "1987    0.871207\n",
      "1988    0.886826\n",
      "1989    0.902445\n",
      "          ...   \n",
      "2002    1.105499\n",
      "2003    1.121118\n",
      "2004    1.136738\n",
      "2005    1.152357\n",
      "2006    1.167977\n",
      "2007    1.183596\n",
      "2008    1.199216\n",
      "2009    1.214835\n",
      "2010    1.230454\n",
      "2011    1.246074\n",
      "2012    1.261693\n",
      "2013    1.277313\n",
      "2014    1.292932\n",
      "2015    1.308552\n",
      "2016    1.324171\n",
      "2017    1.339791\n",
      "2018    1.355410\n",
      "2019    1.371030\n",
      "2020    1.386649\n",
      "2021    1.402269\n",
      "2022    1.417888\n",
      "2023    1.433508\n",
      "2024    1.449127\n",
      "2025    1.464747\n",
      "2026    1.480366\n",
      "2027    1.495986\n",
      "2028    1.511605\n",
      "2029    1.527225\n",
      "2030    1.542844\n",
      "2031    1.558464\n",
      "Length: 72, dtype: float64\n"
     ]
    }
   ],
   "source": [
    "def simulating_pop_linear(starting_year = 1960, ending_year = 2030):\n",
    "    \n",
    "    results = TimeSeries()\n",
    "    results[starting_year] = avg_pop[starting_year]\n",
    "    \n",
    "    for t in linrange(starting_year, ending_year):\n",
    "        results[t + 1] = results[t] + annual_growth\n",
    "        \n",
    "    print (results)\n",
    "    return results\n",
    "\n",
    "    \n",
    "calculated_pop_linear = simulating_pop_linear()"
   ]
  },
  {
   "cell_type": "code",
   "execution_count": 78,
   "metadata": {},
   "outputs": [
    {
     "name": "stdout",
     "output_type": "stream",
     "text": [
      "1960    0.449481\n",
      "1961    0.460336\n",
      "1962    0.471394\n",
      "1963    0.482656\n",
      "1964    0.494122\n",
      "1965    0.505793\n",
      "1966    0.517670\n",
      "1967    0.529752\n",
      "1968    0.542040\n",
      "1969    0.554534\n",
      "1970    0.567234\n",
      "1971    0.580138\n",
      "1972    0.593247\n",
      "1973    0.606560\n",
      "1974    0.620075\n",
      "1975    0.633792\n",
      "1976    0.647709\n",
      "1977    0.661824\n",
      "1978    0.676135\n",
      "1979    0.690641\n",
      "1980    0.705339\n",
      "1981    0.720226\n",
      "1982    0.735300\n",
      "1983    0.750557\n",
      "1984    0.765995\n",
      "1985    0.781609\n",
      "1986    0.797397\n",
      "1987    0.813354\n",
      "1988    0.829475\n",
      "1989    0.845757\n",
      "          ...   \n",
      "2172    2.458543\n",
      "2173    2.459141\n",
      "2174    2.459722\n",
      "2175    2.460286\n",
      "2176    2.460834\n",
      "2177    2.461365\n",
      "2178    2.461882\n",
      "2179    2.462383\n",
      "2180    2.462870\n",
      "2181    2.463342\n",
      "2182    2.463801\n",
      "2183    2.464246\n",
      "2184    2.464679\n",
      "2185    2.465098\n",
      "2186    2.465506\n",
      "2187    2.465902\n",
      "2188    2.466286\n",
      "2189    2.466659\n",
      "2190    2.467021\n",
      "2191    2.467372\n",
      "2192    2.467713\n",
      "2193    2.468044\n",
      "2194    2.468366\n",
      "2195    2.468678\n",
      "2196    2.468981\n",
      "2197    2.469275\n",
      "2198    2.469561\n",
      "2199    2.469838\n",
      "2200    2.470107\n",
      "2201    2.470368\n",
      "Length: 242, dtype: float64\n"
     ]
    }
   ],
   "source": [
    "system = System(alpha = 0.0295, beta = -0.0119)\n",
    "\n",
    "def simulating_pop_quadratic(starting_year = 1960, ending_year = 2200):\n",
    "    \n",
    "    results = TimeSeries()\n",
    "    results[starting_year] = avg_pop[starting_year]\n",
    "    \n",
    "    for t in linrange(starting_year, ending_year):\n",
    "        results[t + 1] = results[t] + system.alpha * results[t] + system.beta * results[t]**2\n",
    "        \n",
    "    print (results)\n",
    "    return results\n",
    "    \n",
    "    \n",
    "\n",
    "calculated_pop_quadratic = simulating_pop_quadratic()\n",
    "\n"
   ]
  },
  {
   "cell_type": "code",
   "execution_count": 79,
   "metadata": {},
   "outputs": [
    {
     "name": "stdout",
     "output_type": "stream",
     "text": [
      "Saving figure to file Population_Estimate_1_logistic.pdf\n"
     ]
    },
    {
     "data": {
      "image/png": "[encoded data removed]",
      "text/plain": [
       "<matplotlib.figure.Figure at 0x22041aa40b8>"
      ]
     },
     "metadata": {},
     "output_type": "display_data"
    }
   ],
   "source": [
    "#QUADRATIC PLOTTING\n",
    "plotting(calculated_pop_quadratic, avg_pop)\n",
    "decorate(title='Population in India Over Time')\n",
    "savefig('Population_Estimate_1_logistic.pdf')"
   ]
  },
  {
   "cell_type": "code",
   "execution_count": 14,
   "metadata": {},
   "outputs": [
    {
     "name": "stdout",
     "output_type": "stream",
     "text": [
      "Saving figure to file Population_Estimate_1_linear.pdf\n"
     ]
    },
    {
     "data": {
      "image/png": "[encoded data removed]",
      "text/plain": [
       "<matplotlib.figure.Figure at 0x2203f6b7320>"
      ]
     },
     "metadata": {},
     "output_type": "display_data"
    }
   ],
   "source": [
    "#LINEAR PLOTTING\n",
    "plotting(calculated_pop_linear, avg_pop)\n",
    "decorate(title='Population in India Over Time')\n",
    "savefig('Population_Estimate_1_linear.pdf')"
   ]
  },
  {
   "cell_type": "code",
   "execution_count": 15,
   "metadata": {
    "collapsed": true
   },
   "outputs": [],
   "source": [
    "def simulate_until_pop(pop_limit = 1500000):\n",
    "    \n",
    "    results = TimeSeries()\n",
    "    results[first_year] = avg_pop[first_year]\n",
    "    \n",
    "    \n"
   ]
  },
  {
   "cell_type": "code",
   "execution_count": null,
   "metadata": {
    "collapsed": true
   },
   "outputs": [],
   "source": []
  },
  {
   "cell_type": "code",
   "execution_count": null,
   "metadata": {
    "collapsed": true
   },
   "outputs": [],
   "source": []
  },
  {
   "cell_type": "code",
   "execution_count": null,
   "metadata": {
    "collapsed": true
   },
   "outputs": [],
   "source": []
  },
  {
   "cell_type": "code",
   "execution_count": null,
   "metadata": {
    "collapsed": true
   },
   "outputs": [],
   "source": []
  },
  {
   "cell_type": "code",
   "execution_count": null,
   "metadata": {
    "collapsed": true
   },
   "outputs": [],
   "source": []
  },
  {
   "cell_type": "code",
   "execution_count": null,
   "metadata": {
    "collapsed": true
   },
   "outputs": [],
   "source": []
  },
  {
   "cell_type": "code",
   "execution_count": null,
   "metadata": {
    "collapsed": true
   },
   "outputs": [],
   "source": []
  },
  {
   "cell_type": "code",
   "execution_count": null,
   "metadata": {
    "collapsed": true
   },
   "outputs": [],
   "source": []
  },
  {
   "cell_type": "code",
   "execution_count": null,
   "metadata": {
    "collapsed": true
   },
   "outputs": [],
   "source": []
  }
 ],
 "metadata": {
  "kernelspec": {
   "display_name": "Python 3",
   "language": "python",
   "name": "python3"
  },
  "language_info": {
   "codemirror_mode": {
    "name": "ipython",
    "version": 3
   },
   "file_extension": ".py",
   "mimetype": "text/x-python",
   "name": "python",
   "nbconvert_exporter": "python",
   "pygments_lexer": "ipython3",
   "version": "3.6.1"
  }
 },
 "nbformat": 4,
 "nbformat_minor": 2
}

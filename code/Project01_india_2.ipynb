{
 "cells": [
  {
   "cell_type": "code",
   "execution_count": 1,
   "metadata": {
    "collapsed": true
   },
   "outputs": [],
   "source": [
    "%matplotlib inline\n",
    "\n",
    "from modsim import *\n",
    "\n",
    "from pandas import read_csv\n",
    "\n",
    "filename = 'india_2.csv'\n",
    "table = read_csv(filename, header=0, index_col=0, decimal='M')\n",
    "\n"
   ]
  },
  {
   "cell_type": "code",
   "execution_count": 95,
   "metadata": {
    "collapsed": true
   },
   "outputs": [],
   "source": [
    "system = System(alpha = 0.025, beta = -0.00185, plus = 449480608, delta = 0)"
   ]
  },
  {
   "cell_type": "code",
   "execution_count": 3,
   "metadata": {
    "collapsed": true
   },
   "outputs": [],
   "source": [
    "table.columns = ['avg_pop']"
   ]
  },
  {
   "cell_type": "code",
   "execution_count": 78,
   "metadata": {
    "collapsed": true
   },
   "outputs": [],
   "source": [
    "def plotting(x_1, x_2):\n",
    "    newfig()\n",
    "    \n",
    "    plot(x_1, ':', color='darkblue', label='Simulation')\n",
    "    plot(x_2, '-', color='red', label='Data')\n",
    "    decorate(xlabel='Year',\n",
    "    ylabel='World Population (Billion)')"
   ]
  },
  {
   "cell_type": "code",
   "execution_count": 79,
   "metadata": {},
   "outputs": [
    {
     "data": {
      "text/plain": [
       "1960"
      ]
     },
     "execution_count": 79,
     "metadata": {},
     "output_type": "execute_result"
    }
   ],
   "source": [
    "first_year = table.avg_pop.index[0]\n",
    "last_year = table.avg_pop.index[-1]\n",
    "\n",
    "avg_pop = table.avg_pop / 1e9 # in Billion\n",
    "\n",
    "first_year"
   ]
  },
  {
   "cell_type": "code",
   "execution_count": 80,
   "metadata": {},
   "outputs": [
    {
     "data": {
      "text/plain": [
       "0.449480608"
      ]
     },
     "execution_count": 80,
     "metadata": {},
     "output_type": "execute_result"
    }
   ],
   "source": [
    "avg_pop[1960]"
   ]
  },
  {
   "cell_type": "code",
   "execution_count": null,
   "metadata": {
    "collapsed": true
   },
   "outputs": [],
   "source": []
  },
  {
   "cell_type": "code",
   "execution_count": 81,
   "metadata": {},
   "outputs": [
    {
     "data": {
      "text/plain": [
       "0.015619477607142856"
      ]
     },
     "execution_count": 81,
     "metadata": {},
     "output_type": "execute_result"
    }
   ],
   "source": [
    "\n",
    "def slope(recent_year = 2016, past_year = 1960):\n",
    "    \n",
    "    \n",
    "    pop_difference = avg_pop[recent_year] - avg_pop[past_year]\n",
    "    elapsed_time = recent_year - past_year\n",
    "    annual_growth = pop_difference / elapsed_time\n",
    "    \n",
    "    return annual_growth\n",
    "    print('Annual Growth:', annual_growth)\n",
    "    \n",
    "    \n",
    "annual_growth = slope()\n",
    "annual_growth"
   ]
  },
  {
   "cell_type": "code",
   "execution_count": 82,
   "metadata": {
    "collapsed": true
   },
   "outputs": [],
   "source": [
    "def simulating_pop_linear(starting_year = 1960, ending_year = 2016):\n",
    "    \n",
    "    results = TimeSeries()\n",
    "    results[starting_year] = avg_pop[starting_year]\n",
    "    \n",
    "    for t in linrange(starting_year, ending_year):\n",
    "        results[t + 1] = results[t] + annual_growth\n",
    "        \n",
    "    \n",
    "    return results\n",
    "\n",
    "    \n",
    "calculated_pop_linear = simulating_pop_linear()"
   ]
  },
  {
   "cell_type": "code",
   "execution_count": 93,
   "metadata": {},
   "outputs": [
    {
     "data": {
      "text/plain": [
       "0.449480608"
      ]
     },
     "execution_count": 93,
     "metadata": {},
     "output_type": "execute_result"
    }
   ],
   "source": [
    "system = System(alpha = 0.0270, beta = -0.0084)\n",
    "\n",
    "def simulating_pop_quadratic(starting_year = 1960, ending_year = 2025):\n",
    "    \n",
    "    results = TimeSeries()\n",
    "    results[starting_year] = avg_pop[starting_year]\n",
    "    \n",
    "    for t in linrange(starting_year, ending_year):\n",
    "        results[t + 1] = results[t] + system.alpha * results[t] + system.beta * results[t]**2\n",
    "        \n",
    "        \n",
    "    return results\n",
    "    \n",
    "    \n",
    "\n",
    "calculated_pop_quadratic = simulating_pop_quadratic()\n",
    "\n",
    "avg_pop[1960]"
   ]
  },
  {
   "cell_type": "code",
   "execution_count": 94,
   "metadata": {},
   "outputs": [
    {
     "name": "stdout",
     "output_type": "stream",
     "text": [
      "Saving figure to file Population_Estimate_1_logistic.pdf\n"
     ]
    },
    {
     "data": {
      "image/png": "[encoded data removed]",
      "text/plain": [
       "<matplotlib.figure.Figure at 0x18bcc28c550>"
      ]
     },
     "metadata": {},
     "output_type": "display_data"
    }
   ],
   "source": [
    "#QUADRATIC PLOTTING\n",
    "plotting(calculated_pop_quadratic, avg_pop)\n",
    "decorate(title='Population in India Over Time')\n",
    "savefig('Population_Estimate_1_logistic.pdf')"
   ]
  },
  {
   "cell_type": "code",
   "execution_count": 76,
   "metadata": {},
   "outputs": [
    {
     "name": "stdout",
     "output_type": "stream",
     "text": [
      "Saving figure to file Population_Estimate_1_linear.pdf\n"
     ]
    },
    {
     "data": {
      "image/png": "[encoded data removed]",
      "text/plain": [
       "<matplotlib.figure.Figure at 0x18bcbd2beb8>"
      ]
     },
     "metadata": {},
     "output_type": "display_data"
    }
   ],
   "source": [
    "#LINEAR PLOTTING\n",
    "plotting(calculated_pop_linear, avg_pop)\n",
    "decorate(title='Population in India Over Time')\n",
    "savefig('Population_Estimate_1_linear.pdf')"
   ]
  },
  {
   "cell_type": "code",
   "execution_count": 77,
   "metadata": {
    "collapsed": true
   },
   "outputs": [],
   "source": [
    "def simulate_until_pop(pop_limit = 1500000):\n",
    "    \n",
    "    results = TimeSeries()\n",
    "    results[first_year] = avg_pop[first_year]\n",
    "    \n",
    "    \n"
   ]
  },
  {
   "cell_type": "code",
   "execution_count": null,
   "metadata": {
    "collapsed": true
   },
   "outputs": [],
   "source": []
  },
  {
   "cell_type": "code",
   "execution_count": null,
   "metadata": {
    "collapsed": true
   },
   "outputs": [],
   "source": []
  },
  {
   "cell_type": "code",
   "execution_count": null,
   "metadata": {
    "collapsed": true
   },
   "outputs": [],
   "source": []
  },
  {
   "cell_type": "code",
   "execution_count": null,
   "metadata": {
    "collapsed": true
   },
   "outputs": [],
   "source": []
  },
  {
   "cell_type": "code",
   "execution_count": null,
   "metadata": {
    "collapsed": true
   },
   "outputs": [],
   "source": []
  },
  {
   "cell_type": "code",
   "execution_count": null,
   "metadata": {
    "collapsed": true
   },
   "outputs": [],
   "source": []
  },
  {
   "cell_type": "code",
   "execution_count": null,
   "metadata": {
    "collapsed": true
   },
   "outputs": [],
   "source": []
  },
  {
   "cell_type": "code",
   "execution_count": null,
   "metadata": {
    "collapsed": true
   },
   "outputs": [],
   "source": []
  },
  {
   "cell_type": "code",
   "execution_count": null,
   "metadata": {
    "collapsed": true
   },
   "outputs": [],
   "source": []
  }
 ],
 "metadata": {
  "kernelspec": {
   "display_name": "Python 3",
   "language": "python",
   "name": "python3"
  },
  "language_info": {
   "codemirror_mode": {
    "name": "ipython",
    "version": 3
   },
   "file_extension": ".py",
   "mimetype": "text/x-python",
   "name": "python",
   "nbconvert_exporter": "python",
   "pygments_lexer": "ipython3",
   "version": "3.6.1"
  }
 },
 "nbformat": 4,
 "nbformat_minor": 2
}

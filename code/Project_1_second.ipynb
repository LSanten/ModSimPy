{
 "cells": [
  {
   "cell_type": "markdown",
   "metadata": {},
   "source": [
    "# Modeling and Simulation in Python\n",
    "\n",
    "Chapter 3: Explain\n",
    "\n",
    "Copyright 2017 Allen Downey\n",
    "\n",
    "License: [Creative Commons Attribution 4.0 International](https://creativecommons.org/licenses/by/4.0)\n"
   ]
  },
  {
   "cell_type": "code",
   "execution_count": 47,
   "metadata": {
    "collapsed": true
   },
   "outputs": [],
   "source": [
    "# If you want the figures to appear in the notebook, \n",
    "# and you want to interact with them, use\n",
    "# %matplotlib notebook\n",
    "\n",
    "# If you want the figures to appear in the notebook, \n",
    "# and you don't want to interact with them, use\n",
    "# %matplotlib inline\n",
    "\n",
    "# If you want the figures to appear in separate windows, use\n",
    "# %matplotlib qt5\n",
    "\n",
    "# To switch from one to another, you have to select Kernel->Restart\n",
    "\n",
    "%matplotlib inline\n",
    "\n",
    "from modsim import *"
   ]
  },
  {
   "cell_type": "markdown",
   "metadata": {},
   "source": [
    "Pandas is a module that provides tools for reading and processing data.  The `read_html` reads a web page from a file or the Internet and creates one DataFrame for each table on the page."
   ]
  },
  {
   "cell_type": "code",
   "execution_count": 48,
   "metadata": {
    "collapsed": true
   },
   "outputs": [],
   "source": [
    "from pandas import read_csv"
   ]
  },
  {
   "cell_type": "markdown",
   "metadata": {},
   "source": [
    "The data directory contains a downloaded copy of https://en.wikipedia.org/wiki/World_population_estimates"
   ]
  },
  {
   "cell_type": "code",
   "execution_count": 49,
   "metadata": {},
   "outputs": [],
   "source": [
    "filename = 'india.csv'\n",
    "tables = read_csv(filename, header=0, index_col=0, decimal='M')"
   ]
  },
  {
   "cell_type": "markdown",
   "metadata": {},
   "source": [
    "`tables` is a sequence of DataFrame objects.  We can select the DataFrame we want using the bracket operator.  The tables are numbered from 0, so `table2` is actually the third table on the page.\n",
    "\n",
    "`head` selects the header and the first five rows."
   ]
  },
  {
   "cell_type": "code",
   "execution_count": 50,
   "metadata": {
    "scrolled": true
   },
   "outputs": [
    {
     "data": {
      "text/html": [
       "<div>\n",
       "<style>\n",
       "    .dataframe thead tr:only-child th {\n",
       "        text-align: right;\n",
       "    }\n",
       "\n",
       "    .dataframe thead th {\n",
       "        text-align: left;\n",
       "    }\n",
       "\n",
       "    .dataframe tbody tr th {\n",
       "        vertical-align: top;\n",
       "    }\n",
       "</style>\n",
       "<table border=\"1\" class=\"dataframe\">\n",
       "  <thead>\n",
       "    <tr style=\"text-align: right;\">\n",
       "      <th></th>\n",
       "      <th>Average population\n",
       "(x 1000)</th>\n",
       "      <th>Live births1</th>\n",
       "      <th>Deaths1</th>\n",
       "      <th>Natural change</th>\n",
       "      <th>Crude birth rate\n",
       "(per 1000)</th>\n",
       "      <th>Crude death rate\n",
       "(per 1000)</th>\n",
       "      <th>Natural change\n",
       "(per 1000)</th>\n",
       "      <th>Total fertility rate</th>\n",
       "    </tr>\n",
       "    <tr>\n",
       "      <th>Year</th>\n",
       "      <th></th>\n",
       "      <th></th>\n",
       "      <th></th>\n",
       "      <th></th>\n",
       "      <th></th>\n",
       "      <th></th>\n",
       "      <th></th>\n",
       "      <th></th>\n",
       "    </tr>\n",
       "  </thead>\n",
       "  <tbody>\n",
       "    <tr>\n",
       "      <th>2015</th>\n",
       "      <td>1259108.00</td>\n",
       "      <td>26189446.00</td>\n",
       "      <td>8184202.00</td>\n",
       "      <td>18005244.00</td>\n",
       "      <td>20.8</td>\n",
       "      <td>6.5</td>\n",
       "      <td>14.3</td>\n",
       "      <td>NaN</td>\n",
       "    </tr>\n",
       "    <tr>\n",
       "      <th>2014</th>\n",
       "      <td>1233542.00</td>\n",
       "      <td>25904377.00</td>\n",
       "      <td>8264730.00</td>\n",
       "      <td>17639647.00</td>\n",
       "      <td>21</td>\n",
       "      <td>6.7</td>\n",
       "      <td>14.3</td>\n",
       "      <td>2.3</td>\n",
       "    </tr>\n",
       "    <tr>\n",
       "      <th>2013</th>\n",
       "      <td>1227012.00</td>\n",
       "      <td>26258057.00</td>\n",
       "      <td>8589084.00</td>\n",
       "      <td>17668973.00</td>\n",
       "      <td>21.4</td>\n",
       "      <td>7</td>\n",
       "      <td>14.4</td>\n",
       "      <td>2.3</td>\n",
       "    </tr>\n",
       "    <tr>\n",
       "      <th>2012</th>\n",
       "      <td>1212827.00</td>\n",
       "      <td>26197063.00</td>\n",
       "      <td>8489789.00</td>\n",
       "      <td>17707274.00</td>\n",
       "      <td>21.6</td>\n",
       "      <td>7</td>\n",
       "      <td>14.6</td>\n",
       "      <td>2.4</td>\n",
       "    </tr>\n",
       "    <tr>\n",
       "      <th>2011</th>\n",
       "      <td>1197658.00</td>\n",
       "      <td>26108944.00</td>\n",
       "      <td>8503372.00</td>\n",
       "      <td>17605572.00</td>\n",
       "      <td>21.8</td>\n",
       "      <td>7.1</td>\n",
       "      <td>14.7</td>\n",
       "      <td>2.44</td>\n",
       "    </tr>\n",
       "  </tbody>\n",
       "</table>\n",
       "</div>"
      ],
      "text/plain": [
       "     Average population\\n(x 1000) Live births1     Deaths1 Natural change  \\\n",
       "Year                                                                        \n",
       "2015                   1259108.00  26189446.00  8184202.00    18005244.00   \n",
       "2014                   1233542.00  25904377.00  8264730.00    17639647.00   \n",
       "2013                   1227012.00  26258057.00  8589084.00    17668973.00   \n",
       "2012                   1212827.00  26197063.00  8489789.00    17707274.00   \n",
       "2011                   1197658.00  26108944.00  8503372.00    17605572.00   \n",
       "\n",
       "     Crude birth rate\\n(per 1000) Crude death rate\\n(per 1000)  \\\n",
       "Year                                                             \n",
       "2015                         20.8                          6.5   \n",
       "2014                           21                          6.7   \n",
       "2013                         21.4                            7   \n",
       "2012                         21.6                            7   \n",
       "2011                         21.8                          7.1   \n",
       "\n",
       "     Natural change\\n(per 1000) Total fertility rate  \n",
       "Year                                                  \n",
       "2015                       14.3                  NaN  \n",
       "2014                       14.3                  2.3  \n",
       "2013                       14.4                  2.3  \n",
       "2012                       14.6                  2.4  \n",
       "2011                       14.7                 2.44  "
      ]
     },
     "execution_count": 50,
     "metadata": {},
     "output_type": "execute_result"
    }
   ],
   "source": [
    "table = tables\n",
    "table.head()"
   ]
  },
  {
   "cell_type": "markdown",
   "metadata": {},
   "source": [
    "`tail` selects the last five rows."
   ]
  },
  {
   "cell_type": "code",
   "execution_count": 51,
   "metadata": {
    "scrolled": true
   },
   "outputs": [
    {
     "data": {
      "text/html": [
       "<div>\n",
       "<style>\n",
       "    .dataframe thead tr:only-child th {\n",
       "        text-align: right;\n",
       "    }\n",
       "\n",
       "    .dataframe thead th {\n",
       "        text-align: left;\n",
       "    }\n",
       "\n",
       "    .dataframe tbody tr th {\n",
       "        vertical-align: top;\n",
       "    }\n",
       "</style>\n",
       "<table border=\"1\" class=\"dataframe\">\n",
       "  <thead>\n",
       "    <tr style=\"text-align: right;\">\n",
       "      <th></th>\n",
       "      <th>Average population\n",
       "(x 1000)</th>\n",
       "      <th>Live births1</th>\n",
       "      <th>Deaths1</th>\n",
       "      <th>Natural change</th>\n",
       "      <th>Crude birth rate\n",
       "(per 1000)</th>\n",
       "      <th>Crude death rate\n",
       "(per 1000)</th>\n",
       "      <th>Natural change\n",
       "(per 1000)</th>\n",
       "      <th>Total fertility rate</th>\n",
       "    </tr>\n",
       "    <tr>\n",
       "      <th>Year</th>\n",
       "      <th></th>\n",
       "      <th></th>\n",
       "      <th></th>\n",
       "      <th></th>\n",
       "      <th></th>\n",
       "      <th></th>\n",
       "      <th></th>\n",
       "      <th></th>\n",
       "    </tr>\n",
       "  </thead>\n",
       "  <tbody>\n",
       "    <tr>\n",
       "      <th>1985</th>\n",
       "      <td>784491.00</td>\n",
       "      <td>25810000.00</td>\n",
       "      <td>9257000.00</td>\n",
       "      <td>16553000.00</td>\n",
       "      <td>32.9</td>\n",
       "      <td>11.8</td>\n",
       "      <td>21.1</td>\n",
       "      <td>?</td>\n",
       "    </tr>\n",
       "    <tr>\n",
       "      <th>1984</th>\n",
       "      <td>767147.00</td>\n",
       "      <td>26006000.00</td>\n",
       "      <td>9666000.00</td>\n",
       "      <td>16340000.00</td>\n",
       "      <td>33.9</td>\n",
       "      <td>12.6</td>\n",
       "      <td>21.3</td>\n",
       "      <td>?</td>\n",
       "    </tr>\n",
       "    <tr>\n",
       "      <th>1983</th>\n",
       "      <td>750034.00</td>\n",
       "      <td>25276000.00</td>\n",
       "      <td>8925000.00</td>\n",
       "      <td>16351000.00</td>\n",
       "      <td>33.7</td>\n",
       "      <td>11.9</td>\n",
       "      <td>21.8</td>\n",
       "      <td>?</td>\n",
       "    </tr>\n",
       "    <tr>\n",
       "      <th>1982</th>\n",
       "      <td>733152.00</td>\n",
       "      <td>24781000.00</td>\n",
       "      <td>8725000.00</td>\n",
       "      <td>16056000.00</td>\n",
       "      <td>33.8</td>\n",
       "      <td>11.9</td>\n",
       "      <td>21.9</td>\n",
       "      <td>?</td>\n",
       "    </tr>\n",
       "    <tr>\n",
       "      <th>1981</th>\n",
       "      <td>716493.00</td>\n",
       "      <td>24289000.00</td>\n",
       "      <td>8956000.00</td>\n",
       "      <td>15333000.00</td>\n",
       "      <td>33.9</td>\n",
       "      <td>12.5</td>\n",
       "      <td>21.4</td>\n",
       "      <td>?</td>\n",
       "    </tr>\n",
       "  </tbody>\n",
       "</table>\n",
       "</div>"
      ],
      "text/plain": [
       "     Average population\\n(x 1000) Live births1     Deaths1 Natural change  \\\n",
       "Year                                                                        \n",
       "1985                    784491.00  25810000.00  9257000.00    16553000.00   \n",
       "1984                    767147.00  26006000.00  9666000.00    16340000.00   \n",
       "1983                    750034.00  25276000.00  8925000.00    16351000.00   \n",
       "1982                    733152.00  24781000.00  8725000.00    16056000.00   \n",
       "1981                    716493.00  24289000.00  8956000.00    15333000.00   \n",
       "\n",
       "     Crude birth rate\\n(per 1000) Crude death rate\\n(per 1000)  \\\n",
       "Year                                                             \n",
       "1985                         32.9                         11.8   \n",
       "1984                         33.9                         12.6   \n",
       "1983                         33.7                         11.9   \n",
       "1982                         33.8                         11.9   \n",
       "1981                         33.9                         12.5   \n",
       "\n",
       "     Natural change\\n(per 1000) Total fertility rate  \n",
       "Year                                                  \n",
       "1985                       21.1                    ?  \n",
       "1984                       21.3                    ?  \n",
       "1983                       21.8                    ?  \n",
       "1982                       21.9                    ?  \n",
       "1981                       21.4                    ?  "
      ]
     },
     "execution_count": 51,
     "metadata": {},
     "output_type": "execute_result"
    }
   ],
   "source": [
    "table.tail()"
   ]
  },
  {
   "cell_type": "markdown",
   "metadata": {},
   "source": [
    "Long column names are awkard to work with, but we can replace them with abbreviated names."
   ]
  },
  {
   "cell_type": "code",
   "execution_count": 52,
   "metadata": {},
   "outputs": [],
   "source": [
    "table.columns = ['avg_pop', 'births', 'deaths', 'natural_change', \n",
    "                  'crude_birth_rate', 'crude_death_rate', 'natural_change_k', 'fertility']"
   ]
  },
  {
   "cell_type": "markdown",
   "metadata": {},
   "source": [
    "Here's what the DataFrame looks like now.  \n",
    "\n",
    "Some of the values use scientific notation; for example, `2.544000e+09` is shorthand for $2.544 \\cdot 10^9$ or 2.544 billion.\n",
    "\n",
    "`NaN` is a special value that indicates missing data."
   ]
  },
  {
   "cell_type": "code",
   "execution_count": 53,
   "metadata": {},
   "outputs": [
    {
     "data": {
      "text/html": [
       "<div>\n",
       "<style>\n",
       "    .dataframe thead tr:only-child th {\n",
       "        text-align: right;\n",
       "    }\n",
       "\n",
       "    .dataframe thead th {\n",
       "        text-align: left;\n",
       "    }\n",
       "\n",
       "    .dataframe tbody tr th {\n",
       "        vertical-align: top;\n",
       "    }\n",
       "</style>\n",
       "<table border=\"1\" class=\"dataframe\">\n",
       "  <thead>\n",
       "    <tr style=\"text-align: right;\">\n",
       "      <th></th>\n",
       "      <th>avg_pop</th>\n",
       "      <th>births</th>\n",
       "      <th>deaths</th>\n",
       "      <th>natural_change</th>\n",
       "      <th>crude_birth_rate</th>\n",
       "      <th>crude_death_rate</th>\n",
       "      <th>natural_change_k</th>\n",
       "      <th>fertility</th>\n",
       "    </tr>\n",
       "    <tr>\n",
       "      <th>Year</th>\n",
       "      <th></th>\n",
       "      <th></th>\n",
       "      <th></th>\n",
       "      <th></th>\n",
       "      <th></th>\n",
       "      <th></th>\n",
       "      <th></th>\n",
       "      <th></th>\n",
       "    </tr>\n",
       "  </thead>\n",
       "  <tbody>\n",
       "    <tr>\n",
       "      <th>2015</th>\n",
       "      <td>1259108.00</td>\n",
       "      <td>26189446.00</td>\n",
       "      <td>8184202.00</td>\n",
       "      <td>18005244.00</td>\n",
       "      <td>20.8</td>\n",
       "      <td>6.5</td>\n",
       "      <td>14.3</td>\n",
       "      <td>NaN</td>\n",
       "    </tr>\n",
       "    <tr>\n",
       "      <th>2014</th>\n",
       "      <td>1233542.00</td>\n",
       "      <td>25904377.00</td>\n",
       "      <td>8264730.00</td>\n",
       "      <td>17639647.00</td>\n",
       "      <td>21</td>\n",
       "      <td>6.7</td>\n",
       "      <td>14.3</td>\n",
       "      <td>2.3</td>\n",
       "    </tr>\n",
       "    <tr>\n",
       "      <th>2013</th>\n",
       "      <td>1227012.00</td>\n",
       "      <td>26258057.00</td>\n",
       "      <td>8589084.00</td>\n",
       "      <td>17668973.00</td>\n",
       "      <td>21.4</td>\n",
       "      <td>7</td>\n",
       "      <td>14.4</td>\n",
       "      <td>2.3</td>\n",
       "    </tr>\n",
       "    <tr>\n",
       "      <th>2012</th>\n",
       "      <td>1212827.00</td>\n",
       "      <td>26197063.00</td>\n",
       "      <td>8489789.00</td>\n",
       "      <td>17707274.00</td>\n",
       "      <td>21.6</td>\n",
       "      <td>7</td>\n",
       "      <td>14.6</td>\n",
       "      <td>2.4</td>\n",
       "    </tr>\n",
       "    <tr>\n",
       "      <th>2011</th>\n",
       "      <td>1197658.00</td>\n",
       "      <td>26108944.00</td>\n",
       "      <td>8503372.00</td>\n",
       "      <td>17605572.00</td>\n",
       "      <td>21.8</td>\n",
       "      <td>7.1</td>\n",
       "      <td>14.7</td>\n",
       "      <td>2.44</td>\n",
       "    </tr>\n",
       "    <tr>\n",
       "      <th>2010</th>\n",
       "      <td>1182108.00</td>\n",
       "      <td>26124587.00</td>\n",
       "      <td>8511178.00</td>\n",
       "      <td>17613409.00</td>\n",
       "      <td>22.1</td>\n",
       "      <td>7.2</td>\n",
       "      <td>14.9</td>\n",
       "      <td>2.5</td>\n",
       "    </tr>\n",
       "    <tr>\n",
       "      <th>2009</th>\n",
       "      <td>1166228.00</td>\n",
       "      <td>26240130.00</td>\n",
       "      <td>8513464.00</td>\n",
       "      <td>17726666.00</td>\n",
       "      <td>22.5</td>\n",
       "      <td>7.3</td>\n",
       "      <td>15.2</td>\n",
       "      <td>2.6</td>\n",
       "    </tr>\n",
       "    <tr>\n",
       "      <th>2008</th>\n",
       "      <td>1150196.00</td>\n",
       "      <td>26224469.00</td>\n",
       "      <td>8511450.00</td>\n",
       "      <td>17713019.00</td>\n",
       "      <td>22.8</td>\n",
       "      <td>7.4</td>\n",
       "      <td>15.4</td>\n",
       "      <td>2.6</td>\n",
       "    </tr>\n",
       "    <tr>\n",
       "      <th>2007</th>\n",
       "      <td>1134024.00</td>\n",
       "      <td>26195954.00</td>\n",
       "      <td>8391778.00</td>\n",
       "      <td>17804176.00</td>\n",
       "      <td>23.1</td>\n",
       "      <td>7.4</td>\n",
       "      <td>15.7</td>\n",
       "      <td>?</td>\n",
       "    </tr>\n",
       "    <tr>\n",
       "      <th>2006</th>\n",
       "      <td>1157039.00</td>\n",
       "      <td>27190000.00</td>\n",
       "      <td>8678000.00</td>\n",
       "      <td>18512000.00</td>\n",
       "      <td>23.5</td>\n",
       "      <td>7.5</td>\n",
       "      <td>16</td>\n",
       "      <td>?</td>\n",
       "    </tr>\n",
       "    <tr>\n",
       "      <th>2005</th>\n",
       "      <td>1140043.00</td>\n",
       "      <td>27133000.00</td>\n",
       "      <td>8664000.00</td>\n",
       "      <td>18469000.00</td>\n",
       "      <td>23.8</td>\n",
       "      <td>7.6</td>\n",
       "      <td>16.2</td>\n",
       "      <td>2.9</td>\n",
       "    </tr>\n",
       "    <tr>\n",
       "      <th>2004</th>\n",
       "      <td>1122991.00</td>\n",
       "      <td>27064000.00</td>\n",
       "      <td>8422000.00</td>\n",
       "      <td>18642000.00</td>\n",
       "      <td>24.1</td>\n",
       "      <td>7.5</td>\n",
       "      <td>16.6</td>\n",
       "      <td>?</td>\n",
       "    </tr>\n",
       "    <tr>\n",
       "      <th>2003</th>\n",
       "      <td>1105886.00</td>\n",
       "      <td>27426000.00</td>\n",
       "      <td>8847000.00</td>\n",
       "      <td>18579000.00</td>\n",
       "      <td>24.8</td>\n",
       "      <td>8</td>\n",
       "      <td>16.8</td>\n",
       "      <td>?</td>\n",
       "    </tr>\n",
       "    <tr>\n",
       "      <th>2002</th>\n",
       "      <td>1088694.00</td>\n",
       "      <td>27217000.00</td>\n",
       "      <td>8818000.00</td>\n",
       "      <td>18399000.00</td>\n",
       "      <td>25</td>\n",
       "      <td>8.1</td>\n",
       "      <td>16.9</td>\n",
       "      <td>?</td>\n",
       "    </tr>\n",
       "    <tr>\n",
       "      <th>2001</th>\n",
       "      <td>1071374.00</td>\n",
       "      <td>27213000.00</td>\n",
       "      <td>9000000.00</td>\n",
       "      <td>18213000.00</td>\n",
       "      <td>25.4</td>\n",
       "      <td>8.4</td>\n",
       "      <td>17</td>\n",
       "      <td>?</td>\n",
       "    </tr>\n",
       "    <tr>\n",
       "      <th>2000</th>\n",
       "      <td>1053898.00</td>\n",
       "      <td>27191000.00</td>\n",
       "      <td>8958000.00</td>\n",
       "      <td>18233000.00</td>\n",
       "      <td>25.8</td>\n",
       "      <td>8.5</td>\n",
       "      <td>17.3</td>\n",
       "      <td>3.2</td>\n",
       "    </tr>\n",
       "    <tr>\n",
       "      <th>1999</th>\n",
       "      <td>1036259.00</td>\n",
       "      <td>26943000.00</td>\n",
       "      <td>9015000.00</td>\n",
       "      <td>17928000.00</td>\n",
       "      <td>26</td>\n",
       "      <td>8.7</td>\n",
       "      <td>17.3</td>\n",
       "      <td>?</td>\n",
       "    </tr>\n",
       "    <tr>\n",
       "      <th>1998</th>\n",
       "      <td>1018471.00</td>\n",
       "      <td>26989000.00</td>\n",
       "      <td>9166000.00</td>\n",
       "      <td>17823000.00</td>\n",
       "      <td>26.5</td>\n",
       "      <td>9</td>\n",
       "      <td>17.5</td>\n",
       "      <td>?</td>\n",
       "    </tr>\n",
       "    <tr>\n",
       "      <th>1997</th>\n",
       "      <td>1000558.00</td>\n",
       "      <td>27215000.00</td>\n",
       "      <td>8905000.00</td>\n",
       "      <td>18310000.00</td>\n",
       "      <td>27.2</td>\n",
       "      <td>8.9</td>\n",
       "      <td>18.3</td>\n",
       "      <td>?</td>\n",
       "    </tr>\n",
       "    <tr>\n",
       "      <th>1996</th>\n",
       "      <td>982553.00</td>\n",
       "      <td>26824000.00</td>\n",
       "      <td>8745000.00</td>\n",
       "      <td>18079000.00</td>\n",
       "      <td>27.3</td>\n",
       "      <td>8.9</td>\n",
       "      <td>18.4</td>\n",
       "      <td>?</td>\n",
       "    </tr>\n",
       "    <tr>\n",
       "      <th>1995</th>\n",
       "      <td>964486.00</td>\n",
       "      <td>27295000.00</td>\n",
       "      <td>8680000.00</td>\n",
       "      <td>18615000.00</td>\n",
       "      <td>28.3</td>\n",
       "      <td>9</td>\n",
       "      <td>19.3</td>\n",
       "      <td>3.5</td>\n",
       "    </tr>\n",
       "    <tr>\n",
       "      <th>1994</th>\n",
       "      <td>946373.00</td>\n",
       "      <td>27161000.00</td>\n",
       "      <td>8801000.00</td>\n",
       "      <td>18360000.00</td>\n",
       "      <td>28.7</td>\n",
       "      <td>9.3</td>\n",
       "      <td>19.4</td>\n",
       "      <td>?</td>\n",
       "    </tr>\n",
       "    <tr>\n",
       "      <th>1993</th>\n",
       "      <td>928226.00</td>\n",
       "      <td>26640000.00</td>\n",
       "      <td>8633000.00</td>\n",
       "      <td>18007000.00</td>\n",
       "      <td>28.7</td>\n",
       "      <td>9.3</td>\n",
       "      <td>19.4</td>\n",
       "      <td>?</td>\n",
       "    </tr>\n",
       "    <tr>\n",
       "      <th>1992</th>\n",
       "      <td>910065.00</td>\n",
       "      <td>26392000.00</td>\n",
       "      <td>9192000.00</td>\n",
       "      <td>17200000.00</td>\n",
       "      <td>29</td>\n",
       "      <td>10.1</td>\n",
       "      <td>18.9</td>\n",
       "      <td>?</td>\n",
       "    </tr>\n",
       "    <tr>\n",
       "      <th>1991</th>\n",
       "      <td>891910.00</td>\n",
       "      <td>26133000.00</td>\n",
       "      <td>8741000.00</td>\n",
       "      <td>17392000.00</td>\n",
       "      <td>29.3</td>\n",
       "      <td>9.8</td>\n",
       "      <td>19.5</td>\n",
       "      <td>?</td>\n",
       "    </tr>\n",
       "    <tr>\n",
       "      <th>1990</th>\n",
       "      <td>873785.00</td>\n",
       "      <td>26388000.00</td>\n",
       "      <td>8476000.00</td>\n",
       "      <td>17912000.00</td>\n",
       "      <td>30.2</td>\n",
       "      <td>9.7</td>\n",
       "      <td>20.5</td>\n",
       "      <td>3.8</td>\n",
       "    </tr>\n",
       "    <tr>\n",
       "      <th>1989</th>\n",
       "      <td>855707.00</td>\n",
       "      <td>26185000.00</td>\n",
       "      <td>8814000.00</td>\n",
       "      <td>17371000.00</td>\n",
       "      <td>30.6</td>\n",
       "      <td>10.3</td>\n",
       "      <td>20.3</td>\n",
       "      <td>?</td>\n",
       "    </tr>\n",
       "    <tr>\n",
       "      <th>1988</th>\n",
       "      <td>837700.00</td>\n",
       "      <td>26388000.00</td>\n",
       "      <td>9215000.00</td>\n",
       "      <td>17173000.00</td>\n",
       "      <td>31.5</td>\n",
       "      <td>11</td>\n",
       "      <td>20.5</td>\n",
       "      <td>?</td>\n",
       "    </tr>\n",
       "    <tr>\n",
       "      <th>1987</th>\n",
       "      <td>819800.00</td>\n",
       "      <td>26316000.00</td>\n",
       "      <td>8936000.00</td>\n",
       "      <td>17380000.00</td>\n",
       "      <td>32.1</td>\n",
       "      <td>10.9</td>\n",
       "      <td>21.2</td>\n",
       "      <td>?</td>\n",
       "    </tr>\n",
       "    <tr>\n",
       "      <th>1986</th>\n",
       "      <td>802052.00</td>\n",
       "      <td>26147000.00</td>\n",
       "      <td>8903000.00</td>\n",
       "      <td>17244000.00</td>\n",
       "      <td>32.6</td>\n",
       "      <td>11.1</td>\n",
       "      <td>21.5</td>\n",
       "      <td>?</td>\n",
       "    </tr>\n",
       "    <tr>\n",
       "      <th>1985</th>\n",
       "      <td>784491.00</td>\n",
       "      <td>25810000.00</td>\n",
       "      <td>9257000.00</td>\n",
       "      <td>16553000.00</td>\n",
       "      <td>32.9</td>\n",
       "      <td>11.8</td>\n",
       "      <td>21.1</td>\n",
       "      <td>?</td>\n",
       "    </tr>\n",
       "    <tr>\n",
       "      <th>1984</th>\n",
       "      <td>767147.00</td>\n",
       "      <td>26006000.00</td>\n",
       "      <td>9666000.00</td>\n",
       "      <td>16340000.00</td>\n",
       "      <td>33.9</td>\n",
       "      <td>12.6</td>\n",
       "      <td>21.3</td>\n",
       "      <td>?</td>\n",
       "    </tr>\n",
       "    <tr>\n",
       "      <th>1983</th>\n",
       "      <td>750034.00</td>\n",
       "      <td>25276000.00</td>\n",
       "      <td>8925000.00</td>\n",
       "      <td>16351000.00</td>\n",
       "      <td>33.7</td>\n",
       "      <td>11.9</td>\n",
       "      <td>21.8</td>\n",
       "      <td>?</td>\n",
       "    </tr>\n",
       "    <tr>\n",
       "      <th>1982</th>\n",
       "      <td>733152.00</td>\n",
       "      <td>24781000.00</td>\n",
       "      <td>8725000.00</td>\n",
       "      <td>16056000.00</td>\n",
       "      <td>33.8</td>\n",
       "      <td>11.9</td>\n",
       "      <td>21.9</td>\n",
       "      <td>?</td>\n",
       "    </tr>\n",
       "    <tr>\n",
       "      <th>1981</th>\n",
       "      <td>716493.00</td>\n",
       "      <td>24289000.00</td>\n",
       "      <td>8956000.00</td>\n",
       "      <td>15333000.00</td>\n",
       "      <td>33.9</td>\n",
       "      <td>12.5</td>\n",
       "      <td>21.4</td>\n",
       "      <td>?</td>\n",
       "    </tr>\n",
       "  </tbody>\n",
       "</table>\n",
       "</div>"
      ],
      "text/plain": [
       "         avg_pop       births      deaths natural_change crude_birth_rate  \\\n",
       "Year                                                                        \n",
       "2015  1259108.00  26189446.00  8184202.00    18005244.00             20.8   \n",
       "2014  1233542.00  25904377.00  8264730.00    17639647.00               21   \n",
       "2013  1227012.00  26258057.00  8589084.00    17668973.00             21.4   \n",
       "2012  1212827.00  26197063.00  8489789.00    17707274.00             21.6   \n",
       "2011  1197658.00  26108944.00  8503372.00    17605572.00             21.8   \n",
       "2010  1182108.00  26124587.00  8511178.00    17613409.00             22.1   \n",
       "2009  1166228.00  26240130.00  8513464.00    17726666.00             22.5   \n",
       "2008  1150196.00  26224469.00  8511450.00    17713019.00             22.8   \n",
       "2007  1134024.00  26195954.00  8391778.00    17804176.00             23.1   \n",
       "2006  1157039.00  27190000.00  8678000.00    18512000.00             23.5   \n",
       "2005  1140043.00  27133000.00  8664000.00    18469000.00             23.8   \n",
       "2004  1122991.00  27064000.00  8422000.00    18642000.00             24.1   \n",
       "2003  1105886.00  27426000.00  8847000.00    18579000.00             24.8   \n",
       "2002  1088694.00  27217000.00  8818000.00    18399000.00               25   \n",
       "2001  1071374.00  27213000.00  9000000.00    18213000.00             25.4   \n",
       "2000  1053898.00  27191000.00  8958000.00    18233000.00             25.8   \n",
       "1999  1036259.00  26943000.00  9015000.00    17928000.00               26   \n",
       "1998  1018471.00  26989000.00  9166000.00    17823000.00             26.5   \n",
       "1997  1000558.00  27215000.00  8905000.00    18310000.00             27.2   \n",
       "1996   982553.00  26824000.00  8745000.00    18079000.00             27.3   \n",
       "1995   964486.00  27295000.00  8680000.00    18615000.00             28.3   \n",
       "1994   946373.00  27161000.00  8801000.00    18360000.00             28.7   \n",
       "1993   928226.00  26640000.00  8633000.00    18007000.00             28.7   \n",
       "1992   910065.00  26392000.00  9192000.00    17200000.00               29   \n",
       "1991   891910.00  26133000.00  8741000.00    17392000.00             29.3   \n",
       "1990   873785.00  26388000.00  8476000.00    17912000.00             30.2   \n",
       "1989   855707.00  26185000.00  8814000.00    17371000.00             30.6   \n",
       "1988   837700.00  26388000.00  9215000.00    17173000.00             31.5   \n",
       "1987   819800.00  26316000.00  8936000.00    17380000.00             32.1   \n",
       "1986   802052.00  26147000.00  8903000.00    17244000.00             32.6   \n",
       "1985   784491.00  25810000.00  9257000.00    16553000.00             32.9   \n",
       "1984   767147.00  26006000.00  9666000.00    16340000.00             33.9   \n",
       "1983   750034.00  25276000.00  8925000.00    16351000.00             33.7   \n",
       "1982   733152.00  24781000.00  8725000.00    16056000.00             33.8   \n",
       "1981   716493.00  24289000.00  8956000.00    15333000.00             33.9   \n",
       "\n",
       "     crude_death_rate natural_change_k fertility  \n",
       "Year                                              \n",
       "2015              6.5             14.3       NaN  \n",
       "2014              6.7             14.3       2.3  \n",
       "2013                7             14.4       2.3  \n",
       "2012                7             14.6       2.4  \n",
       "2011              7.1             14.7      2.44  \n",
       "2010              7.2             14.9       2.5  \n",
       "2009              7.3             15.2       2.6  \n",
       "2008              7.4             15.4       2.6  \n",
       "2007              7.4             15.7         ?  \n",
       "2006              7.5               16         ?  \n",
       "2005              7.6             16.2       2.9  \n",
       "2004              7.5             16.6         ?  \n",
       "2003                8             16.8         ?  \n",
       "2002              8.1             16.9         ?  \n",
       "2001              8.4               17         ?  \n",
       "2000              8.5             17.3       3.2  \n",
       "1999              8.7             17.3         ?  \n",
       "1998                9             17.5         ?  \n",
       "1997              8.9             18.3         ?  \n",
       "1996              8.9             18.4         ?  \n",
       "1995                9             19.3       3.5  \n",
       "1994              9.3             19.4         ?  \n",
       "1993              9.3             19.4         ?  \n",
       "1992             10.1             18.9         ?  \n",
       "1991              9.8             19.5         ?  \n",
       "1990              9.7             20.5       3.8  \n",
       "1989             10.3             20.3         ?  \n",
       "1988               11             20.5         ?  \n",
       "1987             10.9             21.2         ?  \n",
       "1986             11.1             21.5         ?  \n",
       "1985             11.8             21.1         ?  \n",
       "1984             12.6             21.3         ?  \n",
       "1983             11.9             21.8         ?  \n",
       "1982             11.9             21.9         ?  \n",
       "1981             12.5             21.4         ?  "
      ]
     },
     "execution_count": 53,
     "metadata": {},
     "output_type": "execute_result"
    }
   ],
   "source": [
    "table"
   ]
  },
  {
   "cell_type": "markdown",
   "metadata": {},
   "source": [
    "We can use dot notatio to select a column from a DataFrame.  The result is a Series."
   ]
  },
  {
   "cell_type": "code",
   "execution_count": 54,
   "metadata": {},
   "outputs": [
    {
     "data": {
      "text/plain": [
       "Year\n",
       "2015    1259108.00\n",
       "2014    1233542.00\n",
       "2013    1227012.00\n",
       "2012    1212827.00\n",
       "2011    1197658.00\n",
       "2010    1182108.00\n",
       "2009    1166228.00\n",
       "2008    1150196.00\n",
       "2007    1134024.00\n",
       "2006    1157039.00\n",
       "2005    1140043.00\n",
       "2004    1122991.00\n",
       "2003    1105886.00\n",
       "2002    1088694.00\n",
       "2001    1071374.00\n",
       "2000    1053898.00\n",
       "1999    1036259.00\n",
       "1998    1018471.00\n",
       "1997    1000558.00\n",
       "1996     982553.00\n",
       "1995     964486.00\n",
       "1994     946373.00\n",
       "1993     928226.00\n",
       "1992     910065.00\n",
       "1991     891910.00\n",
       "1990     873785.00\n",
       "1989     855707.00\n",
       "1988     837700.00\n",
       "1987     819800.00\n",
       "1986     802052.00\n",
       "1985     784491.00\n",
       "1984     767147.00\n",
       "1983     750034.00\n",
       "1982     733152.00\n",
       "1981     716493.00\n",
       "Name: avg_pop, dtype: object"
      ]
     },
     "execution_count": 54,
     "metadata": {},
     "output_type": "execute_result"
    }
   ],
   "source": [
    "avg_pop = table.avg_pop\n",
    "avg_pop"
   ]
  },
  {
   "cell_type": "markdown",
   "metadata": {},
   "source": [
    "A Series object has two parts, `values` and `index`.\n",
    "\n",
    "The `values` part is an array."
   ]
  },
  {
   "cell_type": "code",
   "execution_count": 55,
   "metadata": {},
   "outputs": [
    {
     "data": {
      "text/plain": [
       "array(['1259108.00', '1233542.00', '1227012.00', '1212827.00',\n",
       "       '1197658.00', '1182108.00', '1166228.00', '1150196.00',\n",
       "       '1134024.00', '1157039.00', '1140043.00', '1122991.00',\n",
       "       '1105886.00', '1088694.00', '1071374.00', '1053898.00',\n",
       "       '1036259.00', '1018471.00', '1000558.00', '982553.00', '964486.00',\n",
       "       '946373.00', '928226.00', '910065.00', '891910.00', '873785.00',\n",
       "       '855707.00', '837700.00', '819800.00', '802052.00', '784491.00',\n",
       "       '767147.00', '750034.00', '733152.00', '716493.00'], dtype=object)"
      ]
     },
     "execution_count": 55,
     "metadata": {},
     "output_type": "execute_result"
    }
   ],
   "source": [
    "avg_pop.values"
   ]
  },
  {
   "cell_type": "markdown",
   "metadata": {},
   "source": [
    "The `index` part is yet another kind of object, an `Int64Index`."
   ]
  },
  {
   "cell_type": "code",
   "execution_count": 56,
   "metadata": {},
   "outputs": [
    {
     "data": {
      "text/plain": [
       "Int64Index([2015, 2014, 2013, 2012, 2011, 2010, 2009, 2008, 2007, 2006, 2005,\n",
       "            2004, 2003, 2002, 2001, 2000, 1999, 1998, 1997, 1996, 1995, 1994,\n",
       "            1993, 1992, 1991, 1990, 1989, 1988, 1987, 1986, 1985, 1984, 1983,\n",
       "            1982, 1981],\n",
       "           dtype='int64', name='Year')"
      ]
     },
     "execution_count": 56,
     "metadata": {},
     "output_type": "execute_result"
    }
   ],
   "source": [
    "avg_pop.index"
   ]
  },
  {
   "cell_type": "markdown",
   "metadata": {},
   "source": [
    "If you ever wonder what kind of object a variable refers to, you can use the `type` function.\n",
    "\n",
    "The result indicates what type the object is, and the module where that type is defined.\n",
    "\n",
    "DataFrame, Series, and Int64Index are defined by Pandas.\n",
    "\n",
    "array is defined by NumPy."
   ]
  },
  {
   "cell_type": "code",
   "execution_count": 57,
   "metadata": {},
   "outputs": [
    {
     "data": {
      "text/plain": [
       "pandas.core.series.Series"
      ]
     },
     "execution_count": 57,
     "metadata": {},
     "output_type": "execute_result"
    }
   ],
   "source": [
    "type(avg_pop)"
   ]
  },
  {
   "cell_type": "code",
   "execution_count": 58,
   "metadata": {},
   "outputs": [
    {
     "data": {
      "text/plain": [
       "pandas.core.indexes.numeric.Int64Index"
      ]
     },
     "execution_count": 58,
     "metadata": {},
     "output_type": "execute_result"
    }
   ],
   "source": [
    "type(avg_pop.index)"
   ]
  },
  {
   "cell_type": "code",
   "execution_count": null,
   "metadata": {},
   "outputs": [],
   "source": []
  },
  {
   "cell_type": "code",
   "execution_count": null,
   "metadata": {
    "collapsed": true
   },
   "outputs": [],
   "source": []
  },
  {
   "cell_type": "code",
   "execution_count": 59,
   "metadata": {},
   "outputs": [
    {
     "data": {
      "text/plain": [
       "Year\n",
       "2015    1259108.00\n",
       "2014    1233542.00\n",
       "2013    1227012.00\n",
       "2012    1212827.00\n",
       "2011    1197658.00\n",
       "2010    1182108.00\n",
       "2009    1166228.00\n",
       "2008    1150196.00\n",
       "2007    1134024.00\n",
       "2006    1157039.00\n",
       "2005    1140043.00\n",
       "2004    1122991.00\n",
       "2003    1105886.00\n",
       "2002    1088694.00\n",
       "2001    1071374.00\n",
       "2000    1053898.00\n",
       "1999    1036259.00\n",
       "1998    1018471.00\n",
       "1997    1000558.00\n",
       "1996     982553.00\n",
       "1995     964486.00\n",
       "1994     946373.00\n",
       "1993     928226.00\n",
       "1992     910065.00\n",
       "1991     891910.00\n",
       "1990     873785.00\n",
       "1989     855707.00\n",
       "1988     837700.00\n",
       "1987     819800.00\n",
       "1986     802052.00\n",
       "1985     784491.00\n",
       "1984     767147.00\n",
       "1983     750034.00\n",
       "1982     733152.00\n",
       "1981     716493.00\n",
       "Name: avg_pop, dtype: object"
      ]
     },
     "execution_count": 59,
     "metadata": {},
     "output_type": "execute_result"
    }
   ],
   "source": [
    "avg_pop"
   ]
  },
  {
   "cell_type": "markdown",
   "metadata": {},
   "source": [
    "This function plots the estimates generated by the US Censis and UN DESA, and labels the axes.\n",
    "\n",
    "`1e9` is scientific notation for $1 \\cdot 10^9$ or 1 billion."
   ]
  },
  {
   "cell_type": "code",
   "execution_count": 30,
   "metadata": {},
   "outputs": [],
   "source": [
    "def plot_estimates(table):\n",
    "    \"\"\"Plot world population estimates.\n",
    "    \n",
    "    table: DataFrame with columns 'un' and 'census'\n",
    "    \"\"\"\n",
    "    un = table.un / 1e9\n",
    "    census = table.census / 1e9\n",
    "    \n",
    "    plot(census, ':', color='darkblue', label='US Census')\n",
    "    plot(un, '--', color='green', label='UN DESA')\n",
    "    \n",
    "    decorate(xlabel='Year',\n",
    "             ylabel='World population (billion)')\n",
    "    \n",
    "    \n"
   ]
  },
  {
   "cell_type": "code",
   "execution_count": 78,
   "metadata": {},
   "outputs": [
    {
     "data": {
      "image/png": "[encoded data removed]",
      "text/plain": [
       "<matplotlib.figure.Figure at 0x27ac5421208>"
      ]
     },
     "metadata": {},
     "output_type": "display_data"
    },
    {
     "data": {
      "image/png": "[encoded data removed]",
      "text/plain": [
       "<matplotlib.figure.Figure at 0x27ac54079b0>"
      ]
     },
     "metadata": {},
     "output_type": "display_data"
    },
    {
     "data": {
      "image/png": "[encoded data removed]",
      "text/plain": [
       "<matplotlib.figure.Figure at 0x27ac54c6b70>"
      ]
     },
     "metadata": {},
     "output_type": "display_data"
    }
   ],
   "source": [
    "def plotting(x):\n",
    "    plot(x, ':', color='darkblue', label='Population')\n",
    "\n",
    "    \n",
    "    \n",
    "\n",
    "    \n",
    "newfig()\n",
    "plotting(table.deaths)\n",
    "newfig()\n",
    "plotting(avg_pop)\n",
    "newfig()\n",
    "plotting(table.births)"
   ]
  },
  {
   "cell_type": "markdown",
   "metadata": {},
   "source": [
    "Now we can plot the estimates."
   ]
  },
  {
   "cell_type": "code",
   "execution_count": 17,
   "metadata": {
    "collapsed": true,
    "scrolled": false
   },
   "outputs": [],
   "source": [
    "newfig()\n",
    "plot_estimates(table2)\n",
    "savefig('chap03-fig01.pdf')"
   ]
  },
  {
   "cell_type": "markdown",
   "metadata": {},
   "source": [
    "From here on, we will work in units of billions."
   ]
  },
  {
   "cell_type": "code",
   "execution_count": 18,
   "metadata": {
    "collapsed": true
   },
   "outputs": [],
   "source": [
    "un = table2.un / 1e9"
   ]
  },
  {
   "cell_type": "code",
   "execution_count": 19,
   "metadata": {
    "collapsed": true
   },
   "outputs": [],
   "source": [
    "census = table2.census / 1e9"
   ]
  },
  {
   "cell_type": "markdown",
   "metadata": {},
   "source": [
    "This expression computes the elementwise differences between the series, then divides through by the UN value to produce relative errors, then finds the largest element.\n",
    "\n",
    "So the largest relative error between the estimates is about 1.3%."
   ]
  },
  {
   "cell_type": "code",
   "execution_count": 20,
   "metadata": {
    "collapsed": true
   },
   "outputs": [],
   "source": [
    "max(abs(census - un) / un) * 100"
   ]
  },
  {
   "cell_type": "markdown",
   "metadata": {},
   "source": [
    "**Exercise:** Break down that expression into smaller steps and display the intermediate results, to make sure you understand how it works.\n",
    "\n",
    "Where in the series is the largest relative error between the two estimates, near the beginning or the end?\n",
    "\n",
    "When I computed relative errors, I used `un` as the denominator.  But that was an arbitraty choice.  What happens if we use `census` instead?  How much difference does it make."
   ]
  },
  {
   "cell_type": "code",
   "execution_count": 21,
   "metadata": {
    "collapsed": true,
    "scrolled": true
   },
   "outputs": [],
   "source": [
    "# Solution goes here"
   ]
  },
  {
   "cell_type": "code",
   "execution_count": 22,
   "metadata": {
    "collapsed": true,
    "scrolled": true
   },
   "outputs": [],
   "source": [
    "# Solution goes here"
   ]
  },
  {
   "cell_type": "code",
   "execution_count": 23,
   "metadata": {
    "collapsed": true,
    "scrolled": true
   },
   "outputs": [],
   "source": [
    "# Solution goes here"
   ]
  },
  {
   "cell_type": "code",
   "execution_count": 24,
   "metadata": {
    "collapsed": true
   },
   "outputs": [],
   "source": [
    "# Solution goes here"
   ]
  },
  {
   "cell_type": "markdown",
   "metadata": {},
   "source": [
    "### Constant growth"
   ]
  },
  {
   "cell_type": "markdown",
   "metadata": {},
   "source": [
    "We can select an element from a series using bracket notation and one of the elements from the index.  Here's the first element:"
   ]
  },
  {
   "cell_type": "code",
   "execution_count": 25,
   "metadata": {
    "collapsed": true
   },
   "outputs": [],
   "source": [
    "census[1950]"
   ]
  },
  {
   "cell_type": "markdown",
   "metadata": {},
   "source": [
    "And the last element."
   ]
  },
  {
   "cell_type": "code",
   "execution_count": 26,
   "metadata": {
    "collapsed": true
   },
   "outputs": [],
   "source": [
    "census[2015]"
   ]
  },
  {
   "cell_type": "markdown",
   "metadata": {},
   "source": [
    "But we can get the first and last years from the index itself:"
   ]
  },
  {
   "cell_type": "code",
   "execution_count": 27,
   "metadata": {
    "collapsed": true
   },
   "outputs": [],
   "source": [
    "first_year = census.index[0]\n",
    "last_year = census.index[-1]\n",
    "first_year, last_year"
   ]
  },
  {
   "cell_type": "markdown",
   "metadata": {},
   "source": [
    "And use them to look up the first and last elements.\n",
    "\n",
    "Then we can compute the average annual growth in billions of people per year."
   ]
  },
  {
   "cell_type": "code",
   "execution_count": 28,
   "metadata": {
    "collapsed": true
   },
   "outputs": [],
   "source": [
    "total_growth = census[last_year] - census[first_year]\n",
    "elapsed_time = last_year - first_year\n",
    "annual_growth = total_growth / elapsed_time\n",
    "annual_growth"
   ]
  },
  {
   "cell_type": "markdown",
   "metadata": {},
   "source": [
    "Now let's create a `TimeSeries` to contain values generated by a linear growth model."
   ]
  },
  {
   "cell_type": "code",
   "execution_count": 29,
   "metadata": {
    "collapsed": true
   },
   "outputs": [],
   "source": [
    "results = TimeSeries()"
   ]
  },
  {
   "cell_type": "markdown",
   "metadata": {},
   "source": [
    "Initially the Series is empty, but we can initialize it so the starting value, in 1950, is the 1950 population estimated by the US Census."
   ]
  },
  {
   "cell_type": "code",
   "execution_count": 30,
   "metadata": {
    "collapsed": true
   },
   "outputs": [],
   "source": [
    "results[1950] = census[1950]\n",
    "results"
   ]
  },
  {
   "cell_type": "markdown",
   "metadata": {},
   "source": [
    "After that, the population in the model grows by a constant amount each year."
   ]
  },
  {
   "cell_type": "code",
   "execution_count": 31,
   "metadata": {
    "collapsed": true
   },
   "outputs": [],
   "source": [
    "for t in linrange(1950, 2015):\n",
    "    results[t+1] = results[t] + annual_growth"
   ]
  },
  {
   "cell_type": "markdown",
   "metadata": {},
   "source": [
    "Here's what the results looks like, compared to the actual data."
   ]
  },
  {
   "cell_type": "code",
   "execution_count": 32,
   "metadata": {
    "collapsed": true
   },
   "outputs": [],
   "source": [
    "newfig()\n",
    "plot_estimates(table2)\n",
    "plot(results, '--', color='gray', label='model')\n",
    "decorate(xlabel='Year', ylabel='World population (billion)')\n",
    "savefig('chap03-fig02.pdf')"
   ]
  },
  {
   "cell_type": "markdown",
   "metadata": {},
   "source": [
    "The model fits the data pretty well after 1990, but not so well before."
   ]
  },
  {
   "cell_type": "markdown",
   "metadata": {},
   "source": [
    "**Exercise:**  Try fitting the model using data from 1970 to the present, and see if that does a better job.\n",
    "\n",
    "Hint: Copy the code from above and make a few changes.\n",
    "\n",
    "Make sure your model starts in 1950, even though the estimated annual growth is based on later data.  You might have to shift the first value in the series up or down to match the data."
   ]
  },
  {
   "cell_type": "code",
   "execution_count": 33,
   "metadata": {
    "collapsed": true
   },
   "outputs": [],
   "source": [
    "# Solution goes here"
   ]
  },
  {
   "cell_type": "markdown",
   "metadata": {},
   "source": [
    "### Now with system objects"
   ]
  },
  {
   "cell_type": "markdown",
   "metadata": {},
   "source": [
    "We can rewrite the code from the previous section using system objects."
   ]
  },
  {
   "cell_type": "code",
   "execution_count": 34,
   "metadata": {
    "collapsed": true
   },
   "outputs": [],
   "source": [
    "t0 = census.index[0]\n",
    "t_end = census.index[-1]\n",
    "total_growth = census[t_end] - census[t0]\n",
    "elapsed_time = t_end - t0\n",
    "annual_growth = total_growth / elapsed_time"
   ]
  },
  {
   "cell_type": "markdown",
   "metadata": {},
   "source": [
    "Here's the system object."
   ]
  },
  {
   "cell_type": "code",
   "execution_count": 35,
   "metadata": {
    "collapsed": true
   },
   "outputs": [],
   "source": [
    "system = System(t0=t0, \n",
    "                t_end=t_end,\n",
    "                p0=census[t0],\n",
    "                annual_growth=annual_growth)"
   ]
  },
  {
   "cell_type": "markdown",
   "metadata": {},
   "source": [
    "And we can encapsulate the code tha runs the model in a function that stores the resulting Series as a new system variable."
   ]
  },
  {
   "cell_type": "code",
   "execution_count": 36,
   "metadata": {
    "collapsed": true
   },
   "outputs": [],
   "source": [
    "def run_simulation1(system):\n",
    "    \"\"\"Runs the constant growth model.\n",
    "    \n",
    "    Adds TimeSeries to `system` as `results`.\n",
    "    \n",
    "    system: system object\n",
    "    \"\"\"\n",
    "    results = TimeSeries()\n",
    "    results[system.t0] = system.p0\n",
    "    for t in linrange(system.t0, system.t_end):\n",
    "        results[t+1] = results[t] + system.annual_growth\n",
    "    system.results = results"
   ]
  },
  {
   "cell_type": "markdown",
   "metadata": {},
   "source": [
    "We can also encapsulate the code that plots the results."
   ]
  },
  {
   "cell_type": "code",
   "execution_count": 37,
   "metadata": {
    "collapsed": true
   },
   "outputs": [],
   "source": [
    "def plot_results(system, title=None):\n",
    "    \"\"\"Plot the estimates and the model.\n",
    "    \n",
    "    system: System object with `results`\n",
    "    \"\"\"\n",
    "    newfig()\n",
    "    plot_estimates(table2)\n",
    "    plot(system.results, '--', color='gray', label='model')\n",
    "    decorate(xlabel='Year', \n",
    "             ylabel='World population (billion)',\n",
    "             title=title)"
   ]
  },
  {
   "cell_type": "markdown",
   "metadata": {},
   "source": [
    "Here's how we run it."
   ]
  },
  {
   "cell_type": "code",
   "execution_count": 38,
   "metadata": {
    "collapsed": true
   },
   "outputs": [],
   "source": [
    "run_simulation1(system)\n",
    "plot_results(system, title='Constant growth model')"
   ]
  },
  {
   "cell_type": "markdown",
   "metadata": {},
   "source": [
    "`plot_results` uses `decorate`, which takes parameters that specify the title of the figure, labels for the $x$ and $y$ axis, and limits for the axes.  To read the documentation of `decorate`, run the cells below."
   ]
  },
  {
   "cell_type": "code",
   "execution_count": 39,
   "metadata": {
    "collapsed": true
   },
   "outputs": [],
   "source": [
    "help(decorate)"
   ]
  },
  {
   "cell_type": "code",
   "execution_count": 40,
   "metadata": {
    "collapsed": true,
    "scrolled": true
   },
   "outputs": [],
   "source": [
    "plt.getp(plt.gca())"
   ]
  },
  {
   "cell_type": "markdown",
   "metadata": {},
   "source": [
    "**Exercise:** The constant growth model doesn't make a lot of sense, because it seems like the number of deaths and births should depend on the size of the population.  As a small improvement, let's write a version of `run_simulation1` where the number of deaths is proportional to the size of the population, but the number of births is constant.  This model doesn't make a lot of sense, either, but it's a good exercise.\n",
    "\n",
    "Write a function called `run_simulation1b` that implements a model where the number of births is constant, but the number of deaths is proportional to the current size of the population.  Set the death rate to `0.01`, which means that 1% of the population dies each year; then choose the number of annual births to make the model fit the data as well as you can.\n",
    "\n",
    "Hint: It probably won't fit very well."
   ]
  },
  {
   "cell_type": "code",
   "execution_count": 41,
   "metadata": {
    "collapsed": true
   },
   "outputs": [],
   "source": [
    "# Solution goes here"
   ]
  },
  {
   "cell_type": "code",
   "execution_count": 42,
   "metadata": {
    "collapsed": true
   },
   "outputs": [],
   "source": [
    "# Solution goes here"
   ]
  },
  {
   "cell_type": "markdown",
   "metadata": {},
   "source": [
    "## Proportional death, proportional birth"
   ]
  },
  {
   "cell_type": "markdown",
   "metadata": {},
   "source": [
    "Now let's get to a more realistic model where the number of births and deaths is proportional to the current population."
   ]
  },
  {
   "cell_type": "code",
   "execution_count": 43,
   "metadata": {
    "collapsed": true
   },
   "outputs": [],
   "source": [
    "def run_simulation2(system):\n",
    "    \"\"\"Runs the constant growth model.\n",
    "    \n",
    "    Adds TimeSeries to `system` as `results`.\n",
    "    \n",
    "    system: system object\n",
    "    \"\"\"\n",
    "    results = TimeSeries()\n",
    "    results[system.t0] = system.p0\n",
    "    for t in linrange(system.t0, system.t_end):\n",
    "        births = system.birth_rate * results[t]\n",
    "        deaths = system.death_rate * results[t]\n",
    "        results[t+1] = results[t] + births - deaths\n",
    "    system.results = results"
   ]
  },
  {
   "cell_type": "markdown",
   "metadata": {},
   "source": [
    "I kept the death rate at 1% and chose the birth rate to fit the data."
   ]
  },
  {
   "cell_type": "code",
   "execution_count": 44,
   "metadata": {
    "collapsed": true
   },
   "outputs": [],
   "source": [
    "system.death_rate = 0.01\n",
    "system.birth_rate = 0.027"
   ]
  },
  {
   "cell_type": "markdown",
   "metadata": {},
   "source": [
    "Here's what it looks like."
   ]
  },
  {
   "cell_type": "code",
   "execution_count": 45,
   "metadata": {
    "collapsed": true
   },
   "outputs": [],
   "source": [
    "run_simulation2(system)\n",
    "plot_results(system, title='Proportional model')\n",
    "savefig('chap03-fig03.pdf')"
   ]
  },
  {
   "cell_type": "markdown",
   "metadata": {},
   "source": [
    "The model fits the data pretty well for the first 20 years, but not so well after that."
   ]
  },
  {
   "cell_type": "markdown",
   "metadata": {},
   "source": [
    "**Exercise:** In this implementation, we compute the number of deaths and births separately, but since they are both proportional to the current population, we can combine them.\n",
    "\n",
    "Write a function called `run_simulation2b` that implements a model with a single parameter, `alpha`, that represents the net growth rate, which is the difference between the birth and death rates.  For example, if `alpha=0.01`, the population should grow by 1% per year.\n",
    "\n",
    "Choose the value of `alpha` that fits the data best."
   ]
  },
  {
   "cell_type": "code",
   "execution_count": 46,
   "metadata": {
    "collapsed": true
   },
   "outputs": [],
   "source": [
    "# Solution goes here"
   ]
  },
  {
   "cell_type": "code",
   "execution_count": 47,
   "metadata": {
    "collapsed": true
   },
   "outputs": [],
   "source": [
    "# Solution goes here"
   ]
  },
  {
   "cell_type": "markdown",
   "metadata": {},
   "source": [
    "### Factoring out the update function"
   ]
  },
  {
   "cell_type": "markdown",
   "metadata": {},
   "source": [
    "The functions that run the model all look the same except the body of the loop.  So we can factor that part out into a function."
   ]
  },
  {
   "cell_type": "code",
   "execution_count": 48,
   "metadata": {
    "collapsed": true
   },
   "outputs": [],
   "source": [
    "def update_func1(pop, t, system):\n",
    "    \"\"\"Compute the population next year.\n",
    "    \n",
    "    pop: current population\n",
    "    t: current year\n",
    "    system: system object containing parameters of the model\n",
    "    \n",
    "    returns: population next year\n",
    "    \"\"\"\n",
    "    births = system.birth_rate * pop\n",
    "    deaths = system.death_rate * pop\n",
    "    return pop + births - deaths"
   ]
  },
  {
   "cell_type": "markdown",
   "metadata": {},
   "source": [
    "Now the name `update_func1` refers to a function object."
   ]
  },
  {
   "cell_type": "code",
   "execution_count": 49,
   "metadata": {
    "collapsed": true
   },
   "outputs": [],
   "source": [
    "update_func1"
   ]
  },
  {
   "cell_type": "markdown",
   "metadata": {},
   "source": [
    "Which we can confirm by checking its type."
   ]
  },
  {
   "cell_type": "code",
   "execution_count": 50,
   "metadata": {
    "collapsed": true
   },
   "outputs": [],
   "source": [
    "type(update_func1)"
   ]
  },
  {
   "cell_type": "markdown",
   "metadata": {},
   "source": [
    "`run_simulation` takes the update function as a parameter and calls it just like any other function."
   ]
  },
  {
   "cell_type": "code",
   "execution_count": 51,
   "metadata": {
    "collapsed": true
   },
   "outputs": [],
   "source": [
    "def run_simulation(system, update_func):\n",
    "    \"\"\"Simulate the system using any update function.\n",
    "    \n",
    "    Adds TimeSeries to `system` as `results`.\n",
    "\n",
    "    system: System object\n",
    "    update_func: function that computes the population next year\n",
    "    \"\"\"\n",
    "    results = TimeSeries()\n",
    "    results[system.t0] = system.p0\n",
    "    for t in linrange(system.t0, system.t_end):\n",
    "        results[t+1] = update_func(results[t], t, system)\n",
    "    system.results = results"
   ]
  },
  {
   "cell_type": "markdown",
   "metadata": {},
   "source": [
    "Here's how we use it."
   ]
  },
  {
   "cell_type": "code",
   "execution_count": 52,
   "metadata": {
    "collapsed": true
   },
   "outputs": [],
   "source": [
    "run_simulation(system, update_func1)"
   ]
  },
  {
   "cell_type": "markdown",
   "metadata": {},
   "source": [
    "Remember not to put parentheses after `update_func1`.  What happens if you try?"
   ]
  },
  {
   "cell_type": "code",
   "execution_count": 53,
   "metadata": {
    "collapsed": true
   },
   "outputs": [],
   "source": [
    "plot_results(system, title='Proportional model, factored')"
   ]
  },
  {
   "cell_type": "markdown",
   "metadata": {},
   "source": [
    "**Exercise:** When you run `run_simulation`, it runs `update_func1` once for each year between `t0` and `t_end`.  To see that for yourself, add a print statement at the beginning of `update_func1` that prints the values of `t` and `pop`, then run `run_simulation` again."
   ]
  },
  {
   "cell_type": "markdown",
   "metadata": {},
   "source": [
    "### Combining birth and death"
   ]
  },
  {
   "cell_type": "markdown",
   "metadata": {},
   "source": [
    "Since births and deaths get added up, we don't have to compute them separately.  We can combine the birth and death rates into a single net growth rate."
   ]
  },
  {
   "cell_type": "code",
   "execution_count": 54,
   "metadata": {
    "collapsed": true
   },
   "outputs": [],
   "source": [
    "def update_func1b(pop, t, system):\n",
    "    \"\"\"Compute the population next year.\n",
    "    \n",
    "    pop: current population\n",
    "    t: current year\n",
    "    system: system object containing parameters of the model\n",
    "    \n",
    "    returns: population next year\n",
    "    \"\"\"\n",
    "    net_growth = system.alpha  * pop\n",
    "    return pop + net_growth"
   ]
  },
  {
   "cell_type": "markdown",
   "metadata": {},
   "source": [
    "Here's how it works:"
   ]
  },
  {
   "cell_type": "code",
   "execution_count": 55,
   "metadata": {
    "collapsed": true
   },
   "outputs": [],
   "source": [
    "system.alpha = system.birth_rate - system.death_rate\n",
    "\n",
    "run_simulation(system, update_func1b)\n",
    "plot_results(system, title='Proportional model, combined birth and death')"
   ]
  },
  {
   "cell_type": "markdown",
   "metadata": {},
   "source": [
    "**Exercise:** Maybe the reason the proportional model doesn't work very well is that the growth rate, `alpha`, might be changing over time.  So let's try a model with different growth rates before and after 1980 (as an arbitrary choice).\n",
    "\n",
    "Write a function called `update_func1c` that takes `pop`, `t`, and `system` as parameters.  The system object, `system`, should contains two parameters: the growth rate before 1980, `alpha1`, and the growth rate after 1980, `alpha2`.  It should compute and return the simulated population one year later.\n",
    "\n",
    "Note: Don't forget the `return` statement."
   ]
  },
  {
   "cell_type": "code",
   "execution_count": 56,
   "metadata": {
    "collapsed": true,
    "scrolled": false
   },
   "outputs": [],
   "source": [
    "# Solution goes here"
   ]
  },
  {
   "cell_type": "code",
   "execution_count": 57,
   "metadata": {
    "collapsed": true
   },
   "outputs": [],
   "source": [
    "# Solution goes here"
   ]
  },
  {
   "cell_type": "markdown",
   "metadata": {},
   "source": [
    "### Quadratic growth"
   ]
  },
  {
   "cell_type": "markdown",
   "metadata": {},
   "source": [
    "Here's the implementation of the quadratic growth model."
   ]
  },
  {
   "cell_type": "code",
   "execution_count": 58,
   "metadata": {
    "collapsed": true
   },
   "outputs": [],
   "source": [
    "def update_func2(pop, t, system):\n",
    "    \"\"\"Compute the population next year.\n",
    "    \n",
    "    pop: current population\n",
    "    t: current year\n",
    "    system: system object containing parameters of the model\n",
    "    \n",
    "    returns: population next year\n",
    "    \"\"\"\n",
    "    net_growth = system.alpha * pop + system.beta * pop**2\n",
    "    return pop + net_growth"
   ]
  },
  {
   "cell_type": "markdown",
   "metadata": {},
   "source": [
    "And here are the results.  Can you find values for the parameters that make the model fit better?"
   ]
  },
  {
   "cell_type": "code",
   "execution_count": 59,
   "metadata": {
    "collapsed": true
   },
   "outputs": [],
   "source": [
    "system.alpha = 0.025\n",
    "system.beta = -0.0018\n",
    "\n",
    "run_simulation(system, update_func2)\n",
    "plot_results(system, title='Quadratic model')\n",
    "savefig('chap03-fig04.pdf')"
   ]
  },
  {
   "cell_type": "markdown",
   "metadata": {},
   "source": [
    "To understand the quadratic model better, let's plot net growth as a function of population."
   ]
  },
  {
   "cell_type": "code",
   "execution_count": 60,
   "metadata": {
    "collapsed": true
   },
   "outputs": [],
   "source": [
    "pop_array = linspace(0.001, 15, 100)\n",
    "net_growth_array = system.alpha * pop_array + system.beta * pop_array**2"
   ]
  },
  {
   "cell_type": "markdown",
   "metadata": {},
   "source": [
    "Here's what it looks like.  Remember that the x axis is population now, not time.\n",
    "\n",
    "The function `sns.set` sets the style for the plots.  I added a grid to this one to make it easier to read."
   ]
  },
  {
   "cell_type": "code",
   "execution_count": 61,
   "metadata": {
    "collapsed": true
   },
   "outputs": [],
   "source": [
    "newfig()\n",
    "sns.set(style='whitegrid', font_scale=1.5)\n",
    "plot(pop_array, net_growth_array, '-')\n",
    "decorate(xlabel='Population (billions)',\n",
    "         ylabel='Net growth (billions)',\n",
    "         legend=False)\n",
    "savefig('chap03-fig05.pdf')"
   ]
  },
  {
   "cell_type": "markdown",
   "metadata": {},
   "source": [
    "Using `sns.set` to reset the plot style."
   ]
  },
  {
   "cell_type": "code",
   "execution_count": 62,
   "metadata": {
    "collapsed": true
   },
   "outputs": [],
   "source": [
    "sns.set(style='white', font_scale=1.5)"
   ]
  },
  {
   "cell_type": "markdown",
   "metadata": {},
   "source": [
    "In the book we found that the net growth is 0 when the population is $-\\alpha/\\beta$:"
   ]
  },
  {
   "cell_type": "code",
   "execution_count": 63,
   "metadata": {
    "collapsed": true
   },
   "outputs": [],
   "source": [
    "-system.alpha / system.beta"
   ]
  },
  {
   "cell_type": "markdown",
   "metadata": {},
   "source": [
    "This is the equilibrium the population tends toward."
   ]
  },
  {
   "cell_type": "markdown",
   "metadata": {},
   "source": [
    "**Exercise:** In the book, I presented a different way to parameterize the quadratic model:\n",
    "\n",
    "$ \\Delta p = r p (1 - p / K) $\n",
    "\n",
    "where $r=\\alpha$ and $K=-\\alpha/\\beta$.  Write a version of `update_func2` that implements this version of the model.  Test it by computing system variables `r` and `K` equivalent to `alpha` and `beta`, and confirm that you get the same results. "
   ]
  },
  {
   "cell_type": "code",
   "execution_count": 64,
   "metadata": {
    "collapsed": true
   },
   "outputs": [],
   "source": [
    "# Solution goes here"
   ]
  },
  {
   "cell_type": "code",
   "execution_count": 65,
   "metadata": {
    "collapsed": true
   },
   "outputs": [],
   "source": [
    "# Solution goes here"
   ]
  },
  {
   "cell_type": "code",
   "execution_count": 66,
   "metadata": {
    "collapsed": true
   },
   "outputs": [],
   "source": [
    "# Solution goes here"
   ]
  },
  {
   "cell_type": "markdown",
   "metadata": {},
   "source": [
    "**Exercise:** On the Wikipedia page about world population estimates, the first table contains estimates for prehistoric populations.  The following cells process this table and plot some of the results."
   ]
  },
  {
   "cell_type": "markdown",
   "metadata": {},
   "source": [
    "Select `table1`, which is the second table on the page."
   ]
  },
  {
   "cell_type": "code",
   "execution_count": 67,
   "metadata": {
    "collapsed": true
   },
   "outputs": [],
   "source": [
    "table1 = tables[1]\n",
    "table1.head()"
   ]
  },
  {
   "cell_type": "markdown",
   "metadata": {},
   "source": [
    "Not all agencies and researchers provided estimates for the same dates.  Again `NaN` is the special value that indicates missing data."
   ]
  },
  {
   "cell_type": "code",
   "execution_count": 68,
   "metadata": {
    "collapsed": true
   },
   "outputs": [],
   "source": [
    "table1.tail()"
   ]
  },
  {
   "cell_type": "markdown",
   "metadata": {},
   "source": [
    "Some of the estimates are in a form we can't read as numbers.  We could clean them up by hand, but for simplicity I'll replace any value that has an `M` in it with `NaN`."
   ]
  },
  {
   "cell_type": "code",
   "execution_count": 69,
   "metadata": {
    "collapsed": true
   },
   "outputs": [],
   "source": [
    "table1.replace('M', np.nan, regex=True, inplace=True)"
   ]
  },
  {
   "cell_type": "markdown",
   "metadata": {},
   "source": [
    "Again, we'll replace the long column names with more convenient abbreviations."
   ]
  },
  {
   "cell_type": "code",
   "execution_count": 70,
   "metadata": {
    "collapsed": true
   },
   "outputs": [],
   "source": [
    "table1.columns = ['prb', 'un', 'maddison', 'hyde', 'tanton', \n",
    "                  'biraben', 'mj', 'thomlinson', 'durand', 'clark']"
   ]
  },
  {
   "cell_type": "markdown",
   "metadata": {},
   "source": [
    "This function plots selected estimates."
   ]
  },
  {
   "cell_type": "code",
   "execution_count": 71,
   "metadata": {
    "collapsed": true
   },
   "outputs": [],
   "source": [
    "def plot_prehistory(table):\n",
    "    \"\"\"Plots population estimates.\n",
    "    \n",
    "    table: DataFrame\n",
    "    \"\"\"\n",
    "    plot(table.prb, 'ro', label='PRB')\n",
    "    plot(table.un, 'co', label='UN')\n",
    "    plot(table.hyde, 'yo', label='HYDE')\n",
    "    plot(table.tanton, 'go', label='Tanton')\n",
    "    plot(table.biraben, 'bo', label='Biraben')\n",
    "    plot(table.mj, 'mo', label='McEvedy & Jones')"
   ]
  },
  {
   "cell_type": "markdown",
   "metadata": {},
   "source": [
    "Here are the results.  Notice that we are working in millions now, not billions."
   ]
  },
  {
   "cell_type": "code",
   "execution_count": 72,
   "metadata": {
    "collapsed": true,
    "scrolled": false
   },
   "outputs": [],
   "source": [
    "newfig()\n",
    "plot_prehistory(table1)\n",
    "decorate(xlabel='Year', \n",
    "         ylabel='World population (millions)',\n",
    "         title='Prehistorical population estimates')"
   ]
  },
  {
   "cell_type": "markdown",
   "metadata": {},
   "source": [
    "We can use `xlim` to zoom in on everything after Year 0."
   ]
  },
  {
   "cell_type": "code",
   "execution_count": 73,
   "metadata": {
    "collapsed": true
   },
   "outputs": [],
   "source": [
    "newfig()\n",
    "plot_prehistory(table1)\n",
    "decorate(xlim=[0, 2000], xlabel='Year', \n",
    "         ylabel='World population (millions)',\n",
    "         title='Prehistorical population estimates')"
   ]
  },
  {
   "cell_type": "markdown",
   "metadata": {},
   "source": [
    "See if you can find a model that fits these data well from Year -1000 to 1940, or from Year 0 to 1940.\n",
    "\n",
    "How well does your best model predict actual population growth from 1950 to the present?"
   ]
  },
  {
   "cell_type": "code",
   "execution_count": 74,
   "metadata": {
    "collapsed": true
   },
   "outputs": [],
   "source": [
    "# Solution goes here"
   ]
  },
  {
   "cell_type": "code",
   "execution_count": 75,
   "metadata": {
    "collapsed": true
   },
   "outputs": [],
   "source": [
    "# Solution goes here"
   ]
  },
  {
   "cell_type": "code",
   "execution_count": 76,
   "metadata": {
    "collapsed": true
   },
   "outputs": [],
   "source": [
    "# Solution goes here"
   ]
  },
  {
   "cell_type": "markdown",
   "metadata": {
    "collapsed": true
   },
   "source": [
    "### Disfunctions"
   ]
  },
  {
   "cell_type": "code",
   "execution_count": 78,
   "metadata": {
    "collapsed": true
   },
   "outputs": [],
   "source": [
    "def carrying_capacity(system):\n",
    "    K = -system.alpha / system.beta\n",
    "    return K\n",
    "    \n",
    "sys1 = System(alpha=0.025, beta=-0.0018)\n",
    "pop = carrying_capacity(sys1)\n",
    "print(pop)"
   ]
  },
  {
   "cell_type": "code",
   "execution_count": 80,
   "metadata": {
    "collapsed": true
   },
   "outputs": [],
   "source": [
    "def carrying_capacity():\n",
    "    K = -system.alpha / system.beta\n",
    "    return K\n",
    "    \n",
    "system = System(alpha=0.025, beta=-0.0018)\n",
    "pop = carrying_capacity()\n",
    "print(pop)"
   ]
  },
  {
   "cell_type": "code",
   "execution_count": 81,
   "metadata": {
    "collapsed": true
   },
   "outputs": [],
   "source": [
    "def carrying_capacity(system):\n",
    "    system = System(alpha=0.025, beta=-0.0018)\n",
    "    K = -system.alpha / system.beta\n",
    "    return K\n",
    "    \n",
    "sys1 = System(alpha=0.025, beta=-0.0018)\n",
    "pop = carrying_capacity(sys1)\n",
    "print(pop)"
   ]
  },
  {
   "cell_type": "code",
   "execution_count": 82,
   "metadata": {
    "collapsed": true
   },
   "outputs": [],
   "source": [
    "def carrying_capacity(system):\n",
    "    K = -system.alpha / system.beta\n",
    "    \n",
    "sys1 = System(alpha=0.025, beta=-0.0018)\n",
    "pop = carrying_capacity(sys1)\n",
    "print(pop)"
   ]
  },
  {
   "cell_type": "code",
   "execution_count": 83,
   "metadata": {
    "collapsed": true
   },
   "outputs": [],
   "source": [
    "def carrying_capacity(system):\n",
    "    K = -system.alpha / system.beta\n",
    "    return K\n",
    "    \n",
    "sys1 = System(alpha=0.025, beta=-0.0018)\n",
    "carrying_capacity(sys1)\n",
    "print(K)"
   ]
  },
  {
   "cell_type": "code",
   "execution_count": null,
   "metadata": {
    "collapsed": true
   },
   "outputs": [],
   "source": []
  }
 ],
 "metadata": {
  "kernelspec": {
   "display_name": "Python 3",
   "language": "python",
   "name": "python3"
  },
  "language_info": {
   "codemirror_mode": {
    "name": "ipython",
    "version": 3
   },
   "file_extension": ".py",
   "mimetype": "text/x-python",
   "name": "python",
   "nbconvert_exporter": "python",
   "pygments_lexer": "ipython3",
   "version": "3.6.1"
  }
 },
 "nbformat": 4,
 "nbformat_minor": 1
}
